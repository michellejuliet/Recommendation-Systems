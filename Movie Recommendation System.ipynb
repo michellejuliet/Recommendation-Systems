{
 "cells": [
  {
   "cell_type": "markdown",
   "id": "6ff197c8",
   "metadata": {},
   "source": [
    "- <b> Content based systems </b> recommend items to the customer similar to previously high rated items by the customer. For example if a movie is an item, then its actors, director, release year and genre are its important property.\n",
    "- To create an <b> item profile </b>, frst we perform the TD-IDF vecorizer. TF is a key idea in information retrieval and NP. IDF is employed in test analysis and information retrieval to evaluate the significance of phrases within a set of documents. \n",
    "- During the creation of a <b> User profile </b> we use a utility matrix  that describes user and item. Then we can decide which item the user likes."
   ]
  },
  {
   "cell_type": "code",
   "execution_count": 1,
   "id": "8ca7ce58",
   "metadata": {},
   "outputs": [],
   "source": [
    "import numpy as np\n",
    "import pandas as pd\n",
    "import sklearn\n",
    "import matplotlib.pyplot as plt\n",
    "import seaborn as sns\n",
    "import warnings\n",
    "warnings.simplefilter(action='ignore', category=FutureWarning)"
   ]
  },
  {
   "cell_type": "code",
   "execution_count": 5,
   "id": "b48ab0e3",
   "metadata": {},
   "outputs": [],
   "source": [
    "# loading the ratings dataset\n",
    "ratings = pd.read_csv(\"https://s3-us-west-2.amazonaws.com/recommender-tutorial/ratings.csv\")"
   ]
  },
  {
   "cell_type": "code",
   "execution_count": 6,
   "id": "d1fb2d44",
   "metadata": {},
   "outputs": [
    {
     "data": {
      "text/html": [
       "<div>\n",
       "<style scoped>\n",
       "    .dataframe tbody tr th:only-of-type {\n",
       "        vertical-align: middle;\n",
       "    }\n",
       "\n",
       "    .dataframe tbody tr th {\n",
       "        vertical-align: top;\n",
       "    }\n",
       "\n",
       "    .dataframe thead th {\n",
       "        text-align: right;\n",
       "    }\n",
       "</style>\n",
       "<table border=\"1\" class=\"dataframe\">\n",
       "  <thead>\n",
       "    <tr style=\"text-align: right;\">\n",
       "      <th></th>\n",
       "      <th>userId</th>\n",
       "      <th>movieId</th>\n",
       "      <th>rating</th>\n",
       "      <th>timestamp</th>\n",
       "    </tr>\n",
       "  </thead>\n",
       "  <tbody>\n",
       "    <tr>\n",
       "      <th>0</th>\n",
       "      <td>1</td>\n",
       "      <td>1</td>\n",
       "      <td>4.0</td>\n",
       "      <td>964982703</td>\n",
       "    </tr>\n",
       "    <tr>\n",
       "      <th>1</th>\n",
       "      <td>1</td>\n",
       "      <td>3</td>\n",
       "      <td>4.0</td>\n",
       "      <td>964981247</td>\n",
       "    </tr>\n",
       "    <tr>\n",
       "      <th>2</th>\n",
       "      <td>1</td>\n",
       "      <td>6</td>\n",
       "      <td>4.0</td>\n",
       "      <td>964982224</td>\n",
       "    </tr>\n",
       "    <tr>\n",
       "      <th>3</th>\n",
       "      <td>1</td>\n",
       "      <td>47</td>\n",
       "      <td>5.0</td>\n",
       "      <td>964983815</td>\n",
       "    </tr>\n",
       "    <tr>\n",
       "      <th>4</th>\n",
       "      <td>1</td>\n",
       "      <td>50</td>\n",
       "      <td>5.0</td>\n",
       "      <td>964982931</td>\n",
       "    </tr>\n",
       "  </tbody>\n",
       "</table>\n",
       "</div>"
      ],
      "text/plain": [
       "   userId  movieId  rating  timestamp\n",
       "0       1        1     4.0  964982703\n",
       "1       1        3     4.0  964981247\n",
       "2       1        6     4.0  964982224\n",
       "3       1       47     5.0  964983815\n",
       "4       1       50     5.0  964982931"
      ]
     },
     "execution_count": 6,
     "metadata": {},
     "output_type": "execute_result"
    }
   ],
   "source": [
    "ratings.head()"
   ]
  },
  {
   "cell_type": "code",
   "execution_count": 7,
   "id": "2f88f23e",
   "metadata": {},
   "outputs": [],
   "source": [
    "# loading the movies dataset\n",
    "movies =  pd.read_csv(\"https://s3-us-west-2.amazonaws.com/recommender-tutorial/movies.csv\")"
   ]
  },
  {
   "cell_type": "code",
   "execution_count": 8,
   "id": "38f3d245",
   "metadata": {},
   "outputs": [
    {
     "data": {
      "text/html": [
       "<div>\n",
       "<style scoped>\n",
       "    .dataframe tbody tr th:only-of-type {\n",
       "        vertical-align: middle;\n",
       "    }\n",
       "\n",
       "    .dataframe tbody tr th {\n",
       "        vertical-align: top;\n",
       "    }\n",
       "\n",
       "    .dataframe thead th {\n",
       "        text-align: right;\n",
       "    }\n",
       "</style>\n",
       "<table border=\"1\" class=\"dataframe\">\n",
       "  <thead>\n",
       "    <tr style=\"text-align: right;\">\n",
       "      <th></th>\n",
       "      <th>movieId</th>\n",
       "      <th>title</th>\n",
       "      <th>genres</th>\n",
       "    </tr>\n",
       "  </thead>\n",
       "  <tbody>\n",
       "    <tr>\n",
       "      <th>0</th>\n",
       "      <td>1</td>\n",
       "      <td>Toy Story (1995)</td>\n",
       "      <td>Adventure|Animation|Children|Comedy|Fantasy</td>\n",
       "    </tr>\n",
       "    <tr>\n",
       "      <th>1</th>\n",
       "      <td>2</td>\n",
       "      <td>Jumanji (1995)</td>\n",
       "      <td>Adventure|Children|Fantasy</td>\n",
       "    </tr>\n",
       "    <tr>\n",
       "      <th>2</th>\n",
       "      <td>3</td>\n",
       "      <td>Grumpier Old Men (1995)</td>\n",
       "      <td>Comedy|Romance</td>\n",
       "    </tr>\n",
       "    <tr>\n",
       "      <th>3</th>\n",
       "      <td>4</td>\n",
       "      <td>Waiting to Exhale (1995)</td>\n",
       "      <td>Comedy|Drama|Romance</td>\n",
       "    </tr>\n",
       "    <tr>\n",
       "      <th>4</th>\n",
       "      <td>5</td>\n",
       "      <td>Father of the Bride Part II (1995)</td>\n",
       "      <td>Comedy</td>\n",
       "    </tr>\n",
       "  </tbody>\n",
       "</table>\n",
       "</div>"
      ],
      "text/plain": [
       "   movieId                               title  \\\n",
       "0        1                    Toy Story (1995)   \n",
       "1        2                      Jumanji (1995)   \n",
       "2        3             Grumpier Old Men (1995)   \n",
       "3        4            Waiting to Exhale (1995)   \n",
       "4        5  Father of the Bride Part II (1995)   \n",
       "\n",
       "                                        genres  \n",
       "0  Adventure|Animation|Children|Comedy|Fantasy  \n",
       "1                   Adventure|Children|Fantasy  \n",
       "2                               Comedy|Romance  \n",
       "3                         Comedy|Drama|Romance  \n",
       "4                                       Comedy  "
      ]
     },
     "execution_count": 8,
     "metadata": {},
     "output_type": "execute_result"
    }
   ],
   "source": [
    "movies.head()"
   ]
  },
  {
   "cell_type": "markdown",
   "id": "26095f2d",
   "metadata": {},
   "source": [
    "Two datasets are imported here, for a movie recommendation study. User ratings for mmovies in the first and movies dataset contains the names and genres"
   ]
  },
  {
   "cell_type": "markdown",
   "id": "0c733e8c",
   "metadata": {},
   "source": [
    "<h3> Statistical Analysis of Ratings </h3>"
   ]
  },
  {
   "cell_type": "code",
   "execution_count": 17,
   "id": "2a9793d7",
   "metadata": {},
   "outputs": [
    {
     "data": {
      "text/plain": [
       "100836"
      ]
     },
     "execution_count": 17,
     "metadata": {},
     "output_type": "execute_result"
    }
   ],
   "source": [
    "ratings.shape #number of ratings\n",
    "len(ratings)"
   ]
  },
  {
   "cell_type": "code",
   "execution_count": 18,
   "id": "7839ae98",
   "metadata": {},
   "outputs": [
    {
     "data": {
      "text/plain": [
       "9742"
      ]
     },
     "execution_count": 18,
     "metadata": {},
     "output_type": "execute_result"
    }
   ],
   "source": [
    "movies.shape # number of movies\n",
    "len(movies)"
   ]
  },
  {
   "cell_type": "code",
   "execution_count": 19,
   "id": "080dea84",
   "metadata": {},
   "outputs": [
    {
     "name": "stdout",
     "output_type": "stream",
     "text": [
      "Number of unique users: 610\n"
     ]
    }
   ],
   "source": [
    "n_users =  len(ratings['userId'].unique())\n",
    "print(f\"Number of unique users: {n_users}\")"
   ]
  },
  {
   "cell_type": "code",
   "execution_count": 21,
   "id": "b5e566c4",
   "metadata": {},
   "outputs": [
    {
     "name": "stdout",
     "output_type": "stream",
     "text": [
      "Number of unique movies: 9742\n"
     ]
    }
   ],
   "source": [
    "n_movies = len(movies['movieId'].unique())\n",
    "print(f\"Number of unique movies: {n_movies}\")"
   ]
  },
  {
   "cell_type": "markdown",
   "id": "47089551",
   "metadata": {},
   "source": [
    "<h3> User Rating Frequency </h3>"
   ]
  },
  {
   "cell_type": "code",
   "execution_count": 22,
   "id": "78628192",
   "metadata": {},
   "outputs": [],
   "source": [
    "user_freq = ratings[['userId', 'movieId']].groupby('userId').count().reset_index()"
   ]
  },
  {
   "cell_type": "code",
   "execution_count": 23,
   "id": "f9dbf69e",
   "metadata": {},
   "outputs": [
    {
     "data": {
      "text/html": [
       "<div>\n",
       "<style scoped>\n",
       "    .dataframe tbody tr th:only-of-type {\n",
       "        vertical-align: middle;\n",
       "    }\n",
       "\n",
       "    .dataframe tbody tr th {\n",
       "        vertical-align: top;\n",
       "    }\n",
       "\n",
       "    .dataframe thead th {\n",
       "        text-align: right;\n",
       "    }\n",
       "</style>\n",
       "<table border=\"1\" class=\"dataframe\">\n",
       "  <thead>\n",
       "    <tr style=\"text-align: right;\">\n",
       "      <th></th>\n",
       "      <th>userId</th>\n",
       "      <th>n_ratings</th>\n",
       "    </tr>\n",
       "  </thead>\n",
       "  <tbody>\n",
       "    <tr>\n",
       "      <th>0</th>\n",
       "      <td>1</td>\n",
       "      <td>232</td>\n",
       "    </tr>\n",
       "    <tr>\n",
       "      <th>1</th>\n",
       "      <td>2</td>\n",
       "      <td>29</td>\n",
       "    </tr>\n",
       "    <tr>\n",
       "      <th>2</th>\n",
       "      <td>3</td>\n",
       "      <td>39</td>\n",
       "    </tr>\n",
       "    <tr>\n",
       "      <th>3</th>\n",
       "      <td>4</td>\n",
       "      <td>216</td>\n",
       "    </tr>\n",
       "    <tr>\n",
       "      <th>4</th>\n",
       "      <td>5</td>\n",
       "      <td>44</td>\n",
       "    </tr>\n",
       "  </tbody>\n",
       "</table>\n",
       "</div>"
      ],
      "text/plain": [
       "   userId  n_ratings\n",
       "0       1        232\n",
       "1       2         29\n",
       "2       3         39\n",
       "3       4        216\n",
       "4       5         44"
      ]
     },
     "execution_count": 23,
     "metadata": {},
     "output_type": "execute_result"
    }
   ],
   "source": [
    "user_freq.columns = ['userId', 'n_ratings']\n",
    "user_freq.head()"
   ]
  },
  {
   "cell_type": "markdown",
   "id": "46b5541a",
   "metadata": {},
   "source": [
    "<h3> Movie Rating Analysis </h3>"
   ]
  },
  {
   "cell_type": "code",
   "execution_count": 39,
   "id": "a6b96e0e",
   "metadata": {},
   "outputs": [
    {
     "data": {
      "text/plain": [
       "movieId\n",
       "1         3.920930\n",
       "2         3.431818\n",
       "3         3.259615\n",
       "4         2.357143\n",
       "5         3.071429\n",
       "            ...   \n",
       "193581    4.000000\n",
       "193583    3.500000\n",
       "193585    3.500000\n",
       "193587    3.500000\n",
       "193609    4.000000\n",
       "Name: rating, Length: 9724, dtype: float64"
      ]
     },
     "execution_count": 39,
     "metadata": {},
     "output_type": "execute_result"
    }
   ],
   "source": [
    "mean_rating = ratings.groupby('movieId')['rating'].mean()\n",
    "mean_rating"
   ]
  },
  {
   "cell_type": "code",
   "execution_count": 38,
   "id": "b7cc42e2",
   "metadata": {},
   "outputs": [
    {
     "data": {
      "text/plain": [
       "0.5"
      ]
     },
     "execution_count": 38,
     "metadata": {},
     "output_type": "execute_result"
    }
   ],
   "source": [
    "mean_rating.min()"
   ]
  },
  {
   "cell_type": "code",
   "execution_count": null,
   "id": "57e5bac2",
   "metadata": {},
   "outputs": [],
   "source": []
  },
  {
   "cell_type": "code",
   "execution_count": 31,
   "id": "93df11e2",
   "metadata": {},
   "outputs": [
    {
     "data": {
      "text/plain": [
       "5.0"
      ]
     },
     "execution_count": 31,
     "metadata": {},
     "output_type": "execute_result"
    }
   ],
   "source": [
    "mean_rating.max()"
   ]
  },
  {
   "cell_type": "code",
   "execution_count": 34,
   "id": "6af95f1b",
   "metadata": {},
   "outputs": [
    {
     "data": {
      "text/plain": [
       "193609"
      ]
     },
     "execution_count": 34,
     "metadata": {},
     "output_type": "execute_result"
    }
   ],
   "source": [
    "ratings['movieId'].max() #no. of users rated highest"
   ]
  },
  {
   "cell_type": "code",
   "execution_count": 35,
   "id": "68e2458d",
   "metadata": {},
   "outputs": [
    {
     "data": {
      "text/plain": [
       "1"
      ]
     },
     "execution_count": 35,
     "metadata": {},
     "output_type": "execute_result"
    }
   ],
   "source": [
    "ratings['movieId'].min()"
   ]
  },
  {
   "cell_type": "code",
   "execution_count": 36,
   "id": "56a47ece",
   "metadata": {},
   "outputs": [],
   "source": [
    "movie_stats = ratings.groupby('movieId')[['rating']].agg(['count','mean'])"
   ]
  },
  {
   "cell_type": "code",
   "execution_count": 37,
   "id": "ef13ac4b",
   "metadata": {},
   "outputs": [
    {
     "data": {
      "text/plain": [
       "Index(['count', 'mean'], dtype='object')"
      ]
     },
     "execution_count": 37,
     "metadata": {},
     "output_type": "execute_result"
    }
   ],
   "source": [
    "movie_stats.columns.droplevel()"
   ]
  },
  {
   "cell_type": "markdown",
   "id": "10d48cdc",
   "metadata": {},
   "source": [
    "<h2> User-Item Matrix Creation </h2>"
   ]
  },
  {
   "cell_type": "markdown",
   "id": "e7e3d00e",
   "metadata": {},
   "source": [
    "A user-item matrix is a basic data structure in recommendation systems, created by code created. This s how it operates:\n",
    "- To find the number of unique users and unique videos in the dataset, N and M are computed.\n",
    "- There are four dictionaries produces:\n",
    "    1. User mapper: Maps distinct user Ids to indexes. User Id 1 becomes index 0\n",
    "    2. Movie mapper: Converts disticts movie Ids into indices. Movie Id 1 becomes index 0 too.\n",
    "    3. User_inv_mapper: Reverses user_mapper and maps indices back to userIds\n",
    "    4. Movie_inv_mapper: Reverses movie_mapper by mapping indices to Movie Ids.\n",
    " - To map the real user and movie Ids in the dataset to their matching indices, the lists user_index and movie_index are generated.\n",
    " - A sparse matrix X is created using the scipy function csr_matrix. The user and movie indices that correspond to the rating values in the dataset are used to generate this matrix. The form of it is (M,N) where M  denotes the quantity of distinct films and N denotes the quantity of distinct consumers."
   ]
  },
  {
   "cell_type": "code",
   "execution_count": 40,
   "id": "5e508dc3",
   "metadata": {},
   "outputs": [],
   "source": [
    "from scipy.sparse import csr_matrix"
   ]
  },
  {
   "cell_type": "code",
   "execution_count": 41,
   "id": "7e802498",
   "metadata": {},
   "outputs": [],
   "source": [
    "def create_matrix(df):\n",
    "    N = len(df['userId'].unique())\n",
    "    M = len(df['movieId'].unique())\n",
    "    # map Ids to indices\n",
    "    user_mapper = dict(zip(np.unique(df['userId']), list(range(N))))\n",
    "    movie_mapper = dict(zip(np.unique(df['movieId']), list(range(M))))\n",
    "    \n",
    "    # Map Indices to Ids\n",
    "    user_inv_mapper = dict(zip(list(range(N)), np.unique(df['userId'])))\n",
    "    movie_inv_mapper = dict(zip(list(range(M)), np.unique(df['movieId'])))\n",
    "    \n",
    "    user_index = [user_mapper[i] for i in df['userId']]\n",
    "    movie_index = [movie_mapper[i] for i in df['movieId']]\n",
    "    \n",
    "    X = csr_matrix((df['rating'], (movie_index, user_index)), shape=(M,  N))\n",
    "    \n",
    "    return X, user_mapper, movie_mapper, user_inv_mapper, movie_inv_mapper\n",
    "\n",
    "    "
   ]
  },
  {
   "cell_type": "code",
   "execution_count": 42,
   "id": "3ba33931",
   "metadata": {},
   "outputs": [],
   "source": [
    "X, user_mapper, movie_mapper, user_inv_mapper, movie_inv_mapper = create_matrix(ratings)"
   ]
  },
  {
   "cell_type": "markdown",
   "id": "2eae65f1",
   "metadata": {},
   "source": [
    "<h3> Movie Similarity Analysis </h3>"
   ]
  },
  {
   "cell_type": "code",
   "execution_count": 43,
   "id": "875c934b",
   "metadata": {},
   "outputs": [],
   "source": [
    "# Find similar movies using KNN\n",
    "from sklearn.neighbors import NearestNeighbors"
   ]
  },
  {
   "cell_type": "code",
   "execution_count": 48,
   "id": "ace95863",
   "metadata": {},
   "outputs": [],
   "source": [
    "def find_similar_movies(movie_id, X, k, metric='cosine', show_distance=False):\n",
    "    neighbor_ids = []\n",
    "    movie_ind = movie_mapper[movie_id]\n",
    "    movie_vec = X[movie_ind]\n",
    "    k+=1\n",
    "    kNN = NearestNeighbors(n_neighbors=k, algorithm = 'brute', metric=metric)\n",
    "    kNN.fit(X)\n",
    "    movie_vec = movie_vec.reshape(1,-1)\n",
    "    neighbor = kNN.kneighbors(movie_vec, return_distance = show_distance)\n",
    "    for i in range(0, k):\n",
    "        n = neighbor.item(i)\n",
    "        neighbor_ids.append(movie_inv_mapper[n])\n",
    "    neighbor_ids.pop(0)\n",
    "    return neighbor_ids\n"
   ]
  },
  {
   "cell_type": "markdown",
   "id": "b18266f3",
   "metadata": {},
   "source": [
    "The function above uses the k-Nearest Neighbors algorithm to identify movies that are similar to a given movie. The function takes inputs such as the target movie ID, a user-item matrix (X), the number of neighbors to consider (k), a similarity metric (default is cosine), and an option to show distances between movies.\n",
    "\n",
    "The function begins by initializing a blank list to hold the IDs of films that are comparable. It takes the target movie's index out of the movie_mapper dictionary and uses the user-item matrix to acquire the feature vector that goes with it.Next, the kNN model is configured using the given parameters.\n",
    "\n",
    "Using the movie_inv_mappeer dictionary, the loops retrieves these neighbor indices and maps them back to movie IDs. Sincs it matches the desired movie, the first item in the list is eliminated. The code ends with a list of related movie titles and the title of the target film, suggesting movies based on the KNN model."
   ]
  },
  {
   "cell_type": "code",
   "execution_count": 49,
   "id": "2560ac61",
   "metadata": {},
   "outputs": [],
   "source": [
    "movie_titles = dict(zip(movies['movieId'], movies['title']))"
   ]
  },
  {
   "cell_type": "code",
   "execution_count": 50,
   "id": "bbb43b02",
   "metadata": {},
   "outputs": [],
   "source": [
    "movie_id = 3"
   ]
  },
  {
   "cell_type": "code",
   "execution_count": 51,
   "id": "f020df9c",
   "metadata": {},
   "outputs": [],
   "source": [
    "similar_ids = find_similar_movies(movie_id, X, k=10)"
   ]
  },
  {
   "cell_type": "code",
   "execution_count": 52,
   "id": "5c9780dd",
   "metadata": {},
   "outputs": [],
   "source": [
    "movie_title = movie_titles[movie_id]"
   ]
  },
  {
   "cell_type": "code",
   "execution_count": 55,
   "id": "31a747ed",
   "metadata": {},
   "outputs": [
    {
     "name": "stdout",
     "output_type": "stream",
     "text": [
      "Since you watched Grumpier Old Men (1995)\n",
      "You might also like.....\n",
      "Grumpy Old Men (1993)\n",
      "Striptease (1996)\n",
      "Nutty Professor, The (1996)\n",
      "Twister (1996)\n",
      "Father of the Bride Part II (1995)\n",
      "Broken Arrow (1996)\n",
      "Bio-Dome (1996)\n",
      "Truth About Cats & Dogs, The (1996)\n",
      "Sabrina (1995)\n",
      "Birdcage, The (1996)\n"
     ]
    }
   ],
   "source": [
    "print(f\"Since you watched {movie_title}\")\n",
    "\n",
    "print(\"You might also like.....\")\n",
    "for i in similar_ids:\n",
    "    print(movie_titles[i])"
   ]
  },
  {
   "cell_type": "markdown",
   "id": "412df931",
   "metadata": {},
   "source": [
    "<h3> Movie Recommendation with respect to Users Preference </h3>"
   ]
  },
  {
   "cell_type": "code",
   "execution_count": 56,
   "id": "e243c9cd",
   "metadata": {},
   "outputs": [],
   "source": [
    "def recommend_movies_for_user(user_id, X, user_mapper, movie_mapper, movie_inv_mapper, k=10):\n",
    "    df1 = ratings[ratings['userId'] == user_id]\n",
    "    if df1.empty:\n",
    "        print(f\"User with ID {user_id} does not exist.\")\n",
    "        return \n",
    "    movie_id = df1[df1['rating'] == max(df1['rating'])]['movieId'].iloc[0]\n",
    "    movie_titles = dict(zip(movies['movieId'], movies['title']))\n",
    "    similar_ids=find_similar_movies(movie_id, X, k)\n",
    "    movie_title = movie_titles.get(movie_id, \"Movie not found\")\n",
    "    if movie_title == \"Movie not found\":\n",
    "        print(f\"Movie with Id {movie_id} not found.\")\n",
    "        return\n",
    "    print(f\"Since you watched {movie_title}, you might also like:\")\n",
    "    for i in similar_ids:\n",
    "        print(movie_titles.get(i, \"Movie not found\"))"
   ]
  },
  {
   "cell_type": "markdown",
   "id": "85471684",
   "metadata": {},
   "source": [
    "The function accepts the following inputs: dictionaries (user_mapper, movie_mapper, and movie_inv_mapper) for mappig user and movie Ids to matrix indices; the user Id for which recommendations are desired; a user-item matrix X representing movie ratings; and an optional parameter k for the number of recommended movies (default is 10).\n",
    "\n",
    "It initially filters the ratings dataset to see if the user with the given ID is there. It notifies the user that the requested person does not exist and ends the function if the user does not exist. The code if its exists, designates the movies that has received the highest rating from that particular user. It finds the movieId of this movie and chooses it based on the highest rating.\n",
    "\n",
    "A dictionary calles movie_titles is created to map movie IDs to their titles. The function then uses find_similar_movies to locate films that are comparable to rhe  movie in the user-item matrix that has the highest rating denoted by movie_ID. It gives back a list of comparable movie IDs. \n",
    "\n",
    "The code searces the movie titles dictionary for the title of the highest rated film, and if film is not found, it sets \"Movie not found\", it means that the highest rated film based on movie_id is not present in the datase. If the movie is located, the customer is presented with recommendations for other movies basd on the highest rated film. The list of comparable movie Ids is iterated over, and the titles are printed. When a movie isn't discovered in the dataset, the default message is \"Movie not found\".\n",
    "\n",
    "The function handles situations where the user or movie does not exist in the dataset and is intended to suggest movies for a particular user based on their highest rated film."
   ]
  },
  {
   "cell_type": "markdown",
   "id": "04e86007",
   "metadata": {},
   "source": [
    "<h3> Recommend the Movies </h3>"
   ]
  },
  {
   "cell_type": "code",
   "execution_count": 58,
   "id": "38d29f30",
   "metadata": {},
   "outputs": [
    {
     "name": "stdout",
     "output_type": "stream",
     "text": [
      "Since you watched Twelve Monkeys (a.k.a. 12 Monkeys) (1995), you might also like:\n",
      "Pulp Fiction (1994)\n",
      "Terminator 2: Judgment Day (1991)\n",
      "Independence Day (a.k.a. ID4) (1996)\n",
      "Seven (a.k.a. Se7en) (1995)\n",
      "Fargo (1996)\n",
      "Fugitive, The (1993)\n",
      "Usual Suspects, The (1995)\n",
      "Jurassic Park (1993)\n",
      "Star Wars: Episode IV - A New Hope (1977)\n",
      "Heat (1995)\n"
     ]
    }
   ],
   "source": [
    "user_id = 150\n",
    "recommend_movies_for_user(user_id, X, user_mapper, movie_mapper, movie_inv_mapper, k=10)"
   ]
  },
  {
   "cell_type": "code",
   "execution_count": 59,
   "id": "35e9bf71",
   "metadata": {},
   "outputs": [
    {
     "name": "stdout",
     "output_type": "stream",
     "text": [
      "Since you watched Pulp Fiction (1994), you might also like:\n",
      "Silence of the Lambs, The (1991)\n",
      "Shawshank Redemption, The (1994)\n",
      "Seven (a.k.a. Se7en) (1995)\n",
      "Forrest Gump (1994)\n",
      "Usual Suspects, The (1995)\n",
      "Braveheart (1995)\n",
      "Fight Club (1999)\n",
      "Fargo (1996)\n",
      "Terminator 2: Judgment Day (1991)\n",
      "Reservoir Dogs (1992)\n"
     ]
    }
   ],
   "source": [
    "user_id = 415\n",
    "recommend_movies_for_user(user_id, X, user_mapper, movie_mapper, movie_inv_mapper, k=10)"
   ]
  },
  {
   "cell_type": "code",
   "execution_count": 60,
   "id": "6e4ef04a",
   "metadata": {},
   "outputs": [
    {
     "name": "stdout",
     "output_type": "stream",
     "text": [
      "Since you watched Postman, The (Postino, Il) (1994), you might also like:\n",
      "Dead Man Walking (1995)\n",
      "Like Water for Chocolate (Como agua para chocolate) (1992)\n",
      "Smoke (1995)\n",
      "Secrets & Lies (1996)\n",
      "Leaving Las Vegas (1995)\n",
      "Mighty Aphrodite (1995)\n",
      "Last Emperor, The (1987)\n",
      "Three Colors: White (Trzy kolory: Bialy) (1994)\n",
      "Cinema Paradiso (Nuovo cinema Paradiso) (1989)\n",
      "Fargo (1996)\n"
     ]
    }
   ],
   "source": [
    "user_id = 467\n",
    "recommend_movies_for_user(user_id, X, user_mapper, movie_mapper, movie_inv_mapper, k=10)"
   ]
  },
  {
   "cell_type": "code",
   "execution_count": 61,
   "id": "384957fe",
   "metadata": {},
   "outputs": [
    {
     "name": "stdout",
     "output_type": "stream",
     "text": [
      "User with ID 1500 does not exist.\n"
     ]
    }
   ],
   "source": [
    "user_id = 1500\n",
    "recommend_movies_for_user(user_id, X, user_mapper, movie_mapper, movie_inv_mapper, k=10)"
   ]
  },
  {
   "cell_type": "markdown",
   "id": "3a031bd1",
   "metadata": {},
   "source": [
    "<h2> Conclusion</h2>"
   ]
  },
  {
   "cell_type": "markdown",
   "id": "cd5487dc",
   "metadata": {},
   "source": [
    "In conclusion, developing a python recommendation system allows for the creation of tailored content recommendations that improve user experience and take into account user preferences."
   ]
  },
  {
   "cell_type": "code",
   "execution_count": null,
   "id": "04d4f9b9",
   "metadata": {},
   "outputs": [],
   "source": []
  }
 ],
 "metadata": {
  "kernelspec": {
   "display_name": "Python 3 (ipykernel)",
   "language": "python",
   "name": "python3"
  },
  "language_info": {
   "codemirror_mode": {
    "name": "ipython",
    "version": 3
   },
   "file_extension": ".py",
   "mimetype": "text/x-python",
   "name": "python",
   "nbconvert_exporter": "python",
   "pygments_lexer": "ipython3",
   "version": "3.10.2"
  }
 },
 "nbformat": 4,
 "nbformat_minor": 5
}
