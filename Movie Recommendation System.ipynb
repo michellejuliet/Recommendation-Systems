{
 "cells": [
  {
   "cell_type": "markdown",
   "id": "68ab744a",
   "metadata": {},
   "source": [
    "<h1> Summary </h1>\n",
    "This dataset (ml-20m) describes 5-star rating and free-text tagging activity from MovieLens, a movie recommendation service. It contains 20000263 ratings and 465564 tag applications across 27278 movies. These data were created by 138493 users between January 09, 1995 and March 31, 2015. This dataset was generated on October 17, 2016.\n",
    "\n",
    "Users were selected at random for inclusion. All selected users had rated at least 20 movies. No demographic information is included. Each user is represented by an id, and no other information is provided.\n",
    "\n",
    "The data are contained in six files, genome-scores.csv, genome-tags.csv, links.csv, movies.csv, ratings.csv and tags.csv. More details about the contents and use of all these files follows.\n"
   ]
  },
  {
   "cell_type": "code",
   "execution_count": 2,
   "id": "cc0cd429",
   "metadata": {},
   "outputs": [],
   "source": [
    "import pandas as pd\n",
    "import numpy as np\n",
    "import seaborn as sns\n",
    "import matplotlib.pyplot as plt\n",
    "import warnings\n",
    "warnings.filterwarnings('ignore')"
   ]
  },
  {
   "cell_type": "markdown",
   "id": "81d826e8",
   "metadata": {},
   "source": [
    "<h1> Formatting and Encoding </h1>\n",
    "The dataset files are written as comma-separated values files with a single header row. Columns that contain commas (,) are escaped using double-quotes (\"). These files are encoded as UTF-8. If accented characters in movie titles or tag values (e.g. Misérables, Les (1995)) display incorrectly, make sure that any program reading the data, such as a text editor, terminal, or script, is configured for UTF-8.\n",
    "\n",
    "<h2> User Ids </h2>\n",
    "MovieLens users were selected at random for inclusion. Their ids have been anonymized. User ids are consistent between ratings.csv and tags.csv (i.e., the same id refers to the same user across the two files).\n",
    "\n",
    "<h2> Movie Ids </h2>\n",
    "Only movies with at least one rating or tag are included in the dataset. These movie ids are consistent with those used on the MovieLens web site (e.g., id 1 corresponds to the URL https://movielens.org/movies/1). Movie ids are consistent between ratings.csv, tags.csv, movies.csv, and links.csv (i.e., the same id refers to the same movie across these four data files).\n",
    "\n",
    "Ratings Data File Structure (ratings.csv)\n",
    "All ratings are contained in the file ratings.csv. Each line of this file after the header row represents one rating of one movie by one user, and has the following format:\n",
    "\n",
    "userId,movieId,rating,timestamp\n",
    "The lines within this file are ordered first by userId, then, within user, by movieId.\n",
    "\n",
    "Ratings are made on a 5-star scale, with half-star increments (0.5 stars - 5.0 stars).\n",
    "\n",
    "Timestamps represent seconds since midnight Coordinated Universal Time (UTC) of January 1, 1970.\n",
    "\n",
    "Tags Data File Structure (tags.csv)\n",
    "All tags are contained in the file tags.csv. Each line of this file after the header row represents one tag applied to one movie by one user, and has the following format:\n",
    "\n",
    "userId,movieId,tag,timestamp\n",
    "The lines within this file are ordered first by userId, then, within user, by movieId.\n",
    "\n",
    "Tags are user-generated metadata about movies. Each tag is typically a single word or short phrase. The meaning, value, and purpose of a particular tag is determined by each user.\n",
    "\n",
    "Timestamps represent seconds since midnight Coordinated Universal Time (UTC) of January 1, 1970.\n",
    "\n",
    "Movies Data File Structure (movies.csv)\n",
    "Movie information is contained in the file movies.csv. Each line of this file after the header row represents one movie, and has the following format:\n",
    "\n",
    "movieId,title,genres\n",
    "Movie titles are entered manually or imported from https://www.themoviedb.org/, and include the year of release in parentheses. Errors and inconsistencies may exist in these titles.\n",
    "\n",
    "Genres are a pipe-separated list, and are selected from the following:\n",
    "\n",
    "Action\n",
    "Adventure\n",
    "Animation\n",
    "Children's\n",
    "Comedy\n",
    "Crime\n",
    "Documentary\n",
    "Drama\n",
    "Fantasy\n",
    "Film-Noir\n",
    "Horror\n",
    "Musical\n",
    "Mystery\n",
    "Romance\n",
    "Sci-Fi\n",
    "Thriller\n",
    "War\n",
    "Western\n",
    "(no genres listed)\n",
    "Links Data File Structure (links.csv)\n",
    "Identifiers that can be used to link to other sources of movie data are contained in the file links.csv. Each line of this file after the header row represents one movie, and has the following format:\n",
    "\n",
    "movieId,imdbId,tmdbId\n",
    "movieId is an identifier for movies used by https://movielens.org. E.g., the movie Toy Story has the link https://movielens.org/movies/1.\n",
    "\n",
    "imdbId is an identifier for movies used by http://www.imdb.com. E.g., the movie Toy Story has the link http://www.imdb.com/title/tt0114709/.\n",
    "\n",
    "tmdbId is an identifier for movies used by https://www.themoviedb.org. E.g., the movie Toy Story has the link https://www.themoviedb.org/movie/862.\n",
    "\n",
    "Use of the resources listed above is subject to the terms of each provider.\n",
    "\n",
    "Tag Genome (genome-scores.csv and genome-tags.csv)\n",
    "This data set includes a current copy of the Tag Genome.\n",
    "\n",
    "The tag genome is a data structure that contains tag relevance scores for movies. The structure is a dense matrix: each movie in the genome has a value for every tag in the genome.\n",
    "\n",
    "As described in this article, the tag genome encodes how strongly movies exhibit particular properties represented by tags (atmospheric, thought-provoking, realistic, etc.). The tag genome was computed using a machine learning algorithm on user-contributed content including tags, ratings, and textual reviews.\n",
    "\n",
    "The genome is split into two files. The file genome-scores.csv contains movie-tag relevance data in the following format:\n",
    "\n",
    "movieId,tagId,relevance\n",
    "The second file, genome-tags.csv, provides the tag descriptions for the tag IDs in the genome file, in the following format:\n",
    "\n",
    "tagId,tag\n",
    "The tagId values are generated when the data set is exported, so they may vary from version to version of the MovieLens data sets.\n",
    "\n",
    "Cross-Validation\n",
    "Prior versions of the MovieLens dataset included either pre-computed cross-folds or scripts to perform this computation. We no longer bundle either of these features with the dataset, since most modern toolkits provide this as a built-in feature. If you wish to learn about standard approaches to cross-fold computation in the context of recommender systems evaluation, see LensKit for tools, documentation, and open-source code examples."
   ]
  },
  {
   "cell_type": "code",
   "execution_count": 3,
   "id": "94b55b08",
   "metadata": {},
   "outputs": [],
   "source": [
    "# Setting up some parameters for the workbook\n",
    "import matplotlib\n",
    "\n",
    "pd.set_option('display.max_rows', 500)\n",
    "pd.options.display.max_columns = None\n",
    "\n",
    "%matplotlib inline\n",
    "matplotlib.rcParams[\"figure.figsize\"] = (25,5)"
   ]
  },
  {
   "cell_type": "code",
   "execution_count": 4,
   "id": "1b90c83c",
   "metadata": {},
   "outputs": [],
   "source": [
    "from scipy import sparse\n",
    "\n",
    "from sklearn.metrics.pairwise import cosine_similarity\n",
    "from sklearn.metrics import mean_squared_error\n",
    "\n",
    "import xgboost as xgb\n",
    "\n",
    "from surprise import Reader, Dataset\n",
    "from surprise import BaselineOnly\n",
    "from surprise import KNNBaseline\n",
    "from surprise import SlopeOne\n",
    "from surprise import SVD\n",
    "from surprise import SVDpp\n",
    "from surprise.model_selection import GridSearchCV"
   ]
  },
  {
   "cell_type": "code",
   "execution_count": 5,
   "id": "9ba8b67f",
   "metadata": {},
   "outputs": [],
   "source": [
    "from datetime import datetime\n",
    "import os\n",
    "import random\n",
    "import gc\n",
    "\n",
    "from fuzzywuzzy import fuzz\n",
    "from fuzzywuzzy import process"
   ]
  },
  {
   "cell_type": "code",
   "execution_count": 8,
   "id": "c39d2e58",
   "metadata": {},
   "outputs": [],
   "source": [
    "# Loading the dataset\n",
    "\n",
    "movie_ratings = pd.read_csv(r'/Users/briangor/Downloads/ratings.csv')\n"
   ]
  },
  {
   "cell_type": "code",
   "execution_count": 9,
   "id": "7c81c2eb",
   "metadata": {},
   "outputs": [
    {
     "data": {
      "text/html": [
       "<div>\n",
       "<style scoped>\n",
       "    .dataframe tbody tr th:only-of-type {\n",
       "        vertical-align: middle;\n",
       "    }\n",
       "\n",
       "    .dataframe tbody tr th {\n",
       "        vertical-align: top;\n",
       "    }\n",
       "\n",
       "    .dataframe thead th {\n",
       "        text-align: right;\n",
       "    }\n",
       "</style>\n",
       "<table border=\"1\" class=\"dataframe\">\n",
       "  <thead>\n",
       "    <tr style=\"text-align: right;\">\n",
       "      <th></th>\n",
       "      <th>userId</th>\n",
       "      <th>movieId</th>\n",
       "      <th>rating</th>\n",
       "      <th>timestamp</th>\n",
       "    </tr>\n",
       "  </thead>\n",
       "  <tbody>\n",
       "    <tr>\n",
       "      <th>0</th>\n",
       "      <td>1</td>\n",
       "      <td>2</td>\n",
       "      <td>3.5</td>\n",
       "      <td>1112486027</td>\n",
       "    </tr>\n",
       "    <tr>\n",
       "      <th>1</th>\n",
       "      <td>1</td>\n",
       "      <td>29</td>\n",
       "      <td>3.5</td>\n",
       "      <td>1112484676</td>\n",
       "    </tr>\n",
       "    <tr>\n",
       "      <th>2</th>\n",
       "      <td>1</td>\n",
       "      <td>32</td>\n",
       "      <td>3.5</td>\n",
       "      <td>1112484819</td>\n",
       "    </tr>\n",
       "    <tr>\n",
       "      <th>3</th>\n",
       "      <td>1</td>\n",
       "      <td>47</td>\n",
       "      <td>3.5</td>\n",
       "      <td>1112484727</td>\n",
       "    </tr>\n",
       "    <tr>\n",
       "      <th>4</th>\n",
       "      <td>1</td>\n",
       "      <td>50</td>\n",
       "      <td>3.5</td>\n",
       "      <td>1112484580</td>\n",
       "    </tr>\n",
       "  </tbody>\n",
       "</table>\n",
       "</div>"
      ],
      "text/plain": [
       "   userId  movieId  rating   timestamp\n",
       "0       1        2     3.5  1112486027\n",
       "1       1       29     3.5  1112484676\n",
       "2       1       32     3.5  1112484819\n",
       "3       1       47     3.5  1112484727\n",
       "4       1       50     3.5  1112484580"
      ]
     },
     "execution_count": 9,
     "metadata": {},
     "output_type": "execute_result"
    }
   ],
   "source": [
    "movie_ratings.head()"
   ]
  },
  {
   "cell_type": "code",
   "execution_count": 11,
   "id": "9109b870",
   "metadata": {},
   "outputs": [],
   "source": [
    "movies = pd.read_csv(r'/Users/briangor/Downloads/movies.csv')"
   ]
  },
  {
   "cell_type": "code",
   "execution_count": 12,
   "id": "7f9b8955",
   "metadata": {},
   "outputs": [
    {
     "data": {
      "text/html": [
       "<div>\n",
       "<style scoped>\n",
       "    .dataframe tbody tr th:only-of-type {\n",
       "        vertical-align: middle;\n",
       "    }\n",
       "\n",
       "    .dataframe tbody tr th {\n",
       "        vertical-align: top;\n",
       "    }\n",
       "\n",
       "    .dataframe thead th {\n",
       "        text-align: right;\n",
       "    }\n",
       "</style>\n",
       "<table border=\"1\" class=\"dataframe\">\n",
       "  <thead>\n",
       "    <tr style=\"text-align: right;\">\n",
       "      <th></th>\n",
       "      <th>movieId</th>\n",
       "      <th>title</th>\n",
       "      <th>genres</th>\n",
       "    </tr>\n",
       "  </thead>\n",
       "  <tbody>\n",
       "    <tr>\n",
       "      <th>0</th>\n",
       "      <td>1</td>\n",
       "      <td>Toy Story (1995)</td>\n",
       "      <td>Adventure|Animation|Children|Comedy|Fantasy</td>\n",
       "    </tr>\n",
       "    <tr>\n",
       "      <th>1</th>\n",
       "      <td>2</td>\n",
       "      <td>Jumanji (1995)</td>\n",
       "      <td>Adventure|Children|Fantasy</td>\n",
       "    </tr>\n",
       "    <tr>\n",
       "      <th>2</th>\n",
       "      <td>3</td>\n",
       "      <td>Grumpier Old Men (1995)</td>\n",
       "      <td>Comedy|Romance</td>\n",
       "    </tr>\n",
       "    <tr>\n",
       "      <th>3</th>\n",
       "      <td>4</td>\n",
       "      <td>Waiting to Exhale (1995)</td>\n",
       "      <td>Comedy|Drama|Romance</td>\n",
       "    </tr>\n",
       "    <tr>\n",
       "      <th>4</th>\n",
       "      <td>5</td>\n",
       "      <td>Father of the Bride Part II (1995)</td>\n",
       "      <td>Comedy</td>\n",
       "    </tr>\n",
       "  </tbody>\n",
       "</table>\n",
       "</div>"
      ],
      "text/plain": [
       "   movieId                               title  \\\n",
       "0        1                    Toy Story (1995)   \n",
       "1        2                      Jumanji (1995)   \n",
       "2        3             Grumpier Old Men (1995)   \n",
       "3        4            Waiting to Exhale (1995)   \n",
       "4        5  Father of the Bride Part II (1995)   \n",
       "\n",
       "                                        genres  \n",
       "0  Adventure|Animation|Children|Comedy|Fantasy  \n",
       "1                   Adventure|Children|Fantasy  \n",
       "2                               Comedy|Romance  \n",
       "3                         Comedy|Drama|Romance  \n",
       "4                                       Comedy  "
      ]
     },
     "execution_count": 12,
     "metadata": {},
     "output_type": "execute_result"
    }
   ],
   "source": [
    "movies.head()"
   ]
  },
  {
   "cell_type": "code",
   "execution_count": 15,
   "id": "3f3e09f1",
   "metadata": {},
   "outputs": [
    {
     "data": {
      "text/plain": [
       "0"
      ]
     },
     "execution_count": 15,
     "metadata": {},
     "output_type": "execute_result"
    }
   ],
   "source": [
    "movies.duplicated().sum() #checking for duplicates"
   ]
  },
  {
   "cell_type": "code",
   "execution_count": 17,
   "id": "54c82f27",
   "metadata": {},
   "outputs": [
    {
     "data": {
      "text/plain": [
       "0"
      ]
     },
     "execution_count": 17,
     "metadata": {},
     "output_type": "execute_result"
    }
   ],
   "source": [
    "movie_ratings.duplicated().sum()"
   ]
  },
  {
   "cell_type": "code",
   "execution_count": 19,
   "id": "18ee6e41",
   "metadata": {},
   "outputs": [
    {
     "data": {
      "text/plain": [
       "(27278, 3)"
      ]
     },
     "execution_count": 19,
     "metadata": {},
     "output_type": "execute_result"
    }
   ],
   "source": [
    "movies.shape"
   ]
  },
  {
   "cell_type": "code",
   "execution_count": 21,
   "id": "7b9491d7",
   "metadata": {},
   "outputs": [
    {
     "data": {
      "text/plain": [
       "(20000263, 4)"
      ]
     },
     "execution_count": 21,
     "metadata": {},
     "output_type": "execute_result"
    }
   ],
   "source": [
    "movie_ratings.shape"
   ]
  },
  {
   "cell_type": "code",
   "execution_count": 22,
   "id": "9a80273d",
   "metadata": {},
   "outputs": [],
   "source": [
    "# Converting the UTC timestamp to Datetime\n",
    "movie_ratings[\"timestamp\"] = movie_ratings[\"timestamp\"].apply(lambda x: datetime.utcfromtimestamp(x).strftime(\"%Y-%m-%d\"))"
   ]
  },
  {
   "cell_type": "code",
   "execution_count": 23,
   "id": "29317fa2",
   "metadata": {},
   "outputs": [],
   "source": [
    "# Merging the movies and ratings data files\n",
    "movie_ratings = movie_ratings.merge(movies, how=\"left\", on=\"movieId\")"
   ]
  },
  {
   "cell_type": "code",
   "execution_count": 27,
   "id": "55f2bb59",
   "metadata": {},
   "outputs": [
    {
     "data": {
      "text/html": [
       "<div>\n",
       "<style scoped>\n",
       "    .dataframe tbody tr th:only-of-type {\n",
       "        vertical-align: middle;\n",
       "    }\n",
       "\n",
       "    .dataframe tbody tr th {\n",
       "        vertical-align: top;\n",
       "    }\n",
       "\n",
       "    .dataframe thead th {\n",
       "        text-align: right;\n",
       "    }\n",
       "</style>\n",
       "<table border=\"1\" class=\"dataframe\">\n",
       "  <thead>\n",
       "    <tr style=\"text-align: right;\">\n",
       "      <th></th>\n",
       "      <th>userId</th>\n",
       "      <th>movieId</th>\n",
       "      <th>rating</th>\n",
       "      <th>timestamp</th>\n",
       "      <th>title</th>\n",
       "      <th>genres</th>\n",
       "    </tr>\n",
       "  </thead>\n",
       "  <tbody>\n",
       "    <tr>\n",
       "      <th>20000258</th>\n",
       "      <td>138493</td>\n",
       "      <td>68954</td>\n",
       "      <td>4.5</td>\n",
       "      <td>2009-11-13</td>\n",
       "      <td>Up (2009)</td>\n",
       "      <td>Adventure|Animation|Children|Drama</td>\n",
       "    </tr>\n",
       "    <tr>\n",
       "      <th>20000259</th>\n",
       "      <td>138493</td>\n",
       "      <td>69526</td>\n",
       "      <td>4.5</td>\n",
       "      <td>2009-12-03</td>\n",
       "      <td>Transformers: Revenge of the Fallen (2009)</td>\n",
       "      <td>Action|Adventure|Sci-Fi|IMAX</td>\n",
       "    </tr>\n",
       "    <tr>\n",
       "      <th>20000260</th>\n",
       "      <td>138493</td>\n",
       "      <td>69644</td>\n",
       "      <td>3.0</td>\n",
       "      <td>2009-12-07</td>\n",
       "      <td>Ice Age: Dawn of the Dinosaurs (2009)</td>\n",
       "      <td>Action|Adventure|Animation|Children|Comedy|Rom...</td>\n",
       "    </tr>\n",
       "    <tr>\n",
       "      <th>20000261</th>\n",
       "      <td>138493</td>\n",
       "      <td>70286</td>\n",
       "      <td>5.0</td>\n",
       "      <td>2009-11-13</td>\n",
       "      <td>District 9 (2009)</td>\n",
       "      <td>Mystery|Sci-Fi|Thriller</td>\n",
       "    </tr>\n",
       "    <tr>\n",
       "      <th>20000262</th>\n",
       "      <td>138493</td>\n",
       "      <td>71619</td>\n",
       "      <td>2.5</td>\n",
       "      <td>2009-10-17</td>\n",
       "      <td>Coco Before Chanel (Coco avant Chanel) (2009)</td>\n",
       "      <td>Drama</td>\n",
       "    </tr>\n",
       "  </tbody>\n",
       "</table>\n",
       "</div>"
      ],
      "text/plain": [
       "          userId  movieId  rating   timestamp  \\\n",
       "20000258  138493    68954     4.5  2009-11-13   \n",
       "20000259  138493    69526     4.5  2009-12-03   \n",
       "20000260  138493    69644     3.0  2009-12-07   \n",
       "20000261  138493    70286     5.0  2009-11-13   \n",
       "20000262  138493    71619     2.5  2009-10-17   \n",
       "\n",
       "                                                  title  \\\n",
       "20000258                                      Up (2009)   \n",
       "20000259     Transformers: Revenge of the Fallen (2009)   \n",
       "20000260          Ice Age: Dawn of the Dinosaurs (2009)   \n",
       "20000261                              District 9 (2009)   \n",
       "20000262  Coco Before Chanel (Coco avant Chanel) (2009)   \n",
       "\n",
       "                                                     genres  \n",
       "20000258                 Adventure|Animation|Children|Drama  \n",
       "20000259                       Action|Adventure|Sci-Fi|IMAX  \n",
       "20000260  Action|Adventure|Animation|Children|Comedy|Rom...  \n",
       "20000261                            Mystery|Sci-Fi|Thriller  \n",
       "20000262                                              Drama  "
      ]
     },
     "execution_count": 27,
     "metadata": {},
     "output_type": "execute_result"
    }
   ],
   "source": [
    "movie_ratings.tail()"
   ]
  },
  {
   "cell_type": "code",
   "execution_count": 28,
   "id": "c21c6ce9",
   "metadata": {},
   "outputs": [
    {
     "data": {
      "text/plain": [
       "(20000263, 6)"
      ]
     },
     "execution_count": 28,
     "metadata": {},
     "output_type": "execute_result"
    }
   ],
   "source": [
    "movie_ratings.shape"
   ]
  },
  {
   "cell_type": "code",
   "execution_count": 29,
   "id": "8bef919f",
   "metadata": {},
   "outputs": [
    {
     "data": {
      "text/plain": [
       "0"
      ]
     },
     "execution_count": 29,
     "metadata": {},
     "output_type": "execute_result"
    }
   ],
   "source": [
    "movie_ratings.duplicated().sum()"
   ]
  },
  {
   "cell_type": "code",
   "execution_count": 30,
   "id": "fc81be2f",
   "metadata": {},
   "outputs": [],
   "source": [
    "# Renaming the timestamp to date\n",
    "movie_ratings.rename(columns={\"timestamp\": \"date\"}, inplace=True)"
   ]
  },
  {
   "cell_type": "code",
   "execution_count": 32,
   "id": "71d60e97",
   "metadata": {},
   "outputs": [
    {
     "data": {
      "text/plain": [
       "Index(['userId', 'movieId', 'rating', 'date', 'title', 'genres'], dtype='object')"
      ]
     },
     "execution_count": 32,
     "metadata": {},
     "output_type": "execute_result"
    }
   ],
   "source": [
    "movie_ratings.columns"
   ]
  },
  {
   "cell_type": "code",
   "execution_count": 33,
   "id": "77765a24",
   "metadata": {},
   "outputs": [],
   "source": [
    "# Sorting ratings based on date\n",
    "movie_ratings.sort_values(by = \"date\", inplace = True)\n",
    "movie_ratings.reset_index(drop=True, inplace=True)"
   ]
  },
  {
   "cell_type": "code",
   "execution_count": 34,
   "id": "ee31c697",
   "metadata": {},
   "outputs": [
    {
     "name": "stdout",
     "output_type": "stream",
     "text": [
      "The number of records are :  20000263\n",
      "The number of features are :  6\n",
      "The list of features is :  Index(['userId', 'movieId', 'rating', 'date', 'title', 'genres'], dtype='object')\n"
     ]
    },
    {
     "data": {
      "text/html": [
       "<div>\n",
       "<style scoped>\n",
       "    .dataframe tbody tr th:only-of-type {\n",
       "        vertical-align: middle;\n",
       "    }\n",
       "\n",
       "    .dataframe tbody tr th {\n",
       "        vertical-align: top;\n",
       "    }\n",
       "\n",
       "    .dataframe thead th {\n",
       "        text-align: right;\n",
       "    }\n",
       "</style>\n",
       "<table border=\"1\" class=\"dataframe\">\n",
       "  <thead>\n",
       "    <tr style=\"text-align: right;\">\n",
       "      <th></th>\n",
       "      <th>userId</th>\n",
       "      <th>movieId</th>\n",
       "      <th>rating</th>\n",
       "      <th>date</th>\n",
       "      <th>title</th>\n",
       "      <th>genres</th>\n",
       "    </tr>\n",
       "  </thead>\n",
       "  <tbody>\n",
       "    <tr>\n",
       "      <th>0</th>\n",
       "      <td>131160</td>\n",
       "      <td>1079</td>\n",
       "      <td>3.0</td>\n",
       "      <td>1995-01-09</td>\n",
       "      <td>Fish Called Wanda, A (1988)</td>\n",
       "      <td>Comedy|Crime</td>\n",
       "    </tr>\n",
       "    <tr>\n",
       "      <th>1</th>\n",
       "      <td>131160</td>\n",
       "      <td>47</td>\n",
       "      <td>5.0</td>\n",
       "      <td>1995-01-09</td>\n",
       "      <td>Seven (a.k.a. Se7en) (1995)</td>\n",
       "      <td>Mystery|Thriller</td>\n",
       "    </tr>\n",
       "    <tr>\n",
       "      <th>2</th>\n",
       "      <td>28507</td>\n",
       "      <td>1176</td>\n",
       "      <td>4.0</td>\n",
       "      <td>1995-01-09</td>\n",
       "      <td>Double Life of Veronique, The (Double Vie de V...</td>\n",
       "      <td>Drama|Fantasy|Romance</td>\n",
       "    </tr>\n",
       "    <tr>\n",
       "      <th>3</th>\n",
       "      <td>131160</td>\n",
       "      <td>21</td>\n",
       "      <td>3.0</td>\n",
       "      <td>1995-01-09</td>\n",
       "      <td>Get Shorty (1995)</td>\n",
       "      <td>Comedy|Crime|Thriller</td>\n",
       "    </tr>\n",
       "    <tr>\n",
       "      <th>4</th>\n",
       "      <td>85252</td>\n",
       "      <td>7</td>\n",
       "      <td>5.0</td>\n",
       "      <td>1996-01-29</td>\n",
       "      <td>Sabrina (1995)</td>\n",
       "      <td>Comedy|Romance</td>\n",
       "    </tr>\n",
       "  </tbody>\n",
       "</table>\n",
       "</div>"
      ],
      "text/plain": [
       "   userId  movieId  rating        date  \\\n",
       "0  131160     1079     3.0  1995-01-09   \n",
       "1  131160       47     5.0  1995-01-09   \n",
       "2   28507     1176     4.0  1995-01-09   \n",
       "3  131160       21     3.0  1995-01-09   \n",
       "4   85252        7     5.0  1996-01-29   \n",
       "\n",
       "                                               title                 genres  \n",
       "0                        Fish Called Wanda, A (1988)           Comedy|Crime  \n",
       "1                        Seven (a.k.a. Se7en) (1995)       Mystery|Thriller  \n",
       "2  Double Life of Veronique, The (Double Vie de V...  Drama|Fantasy|Romance  \n",
       "3                                  Get Shorty (1995)  Comedy|Crime|Thriller  \n",
       "4                                     Sabrina (1995)         Comedy|Romance  "
      ]
     },
     "execution_count": 34,
     "metadata": {},
     "output_type": "execute_result"
    }
   ],
   "source": [
    "# Checking the features and no. of records in the dataset\n",
    "\n",
    "print(\"The number of records are : \", movie_ratings.shape[0])\n",
    "print(\"The number of features are : \", movie_ratings.shape[1])\n",
    "print(\"The list of features is : \", movie_ratings.columns)\n",
    "movie_ratings.head()"
   ]
  },
  {
   "cell_type": "code",
   "execution_count": 35,
   "id": "1cc4337c",
   "metadata": {},
   "outputs": [
    {
     "name": "stdout",
     "output_type": "stream",
     "text": [
      "<class 'pandas.core.frame.DataFrame'>\n",
      "RangeIndex: 20000263 entries, 0 to 20000262\n",
      "Data columns (total 6 columns):\n",
      " #   Column   Dtype  \n",
      "---  ------   -----  \n",
      " 0   userId   int64  \n",
      " 1   movieId  int64  \n",
      " 2   rating   float64\n",
      " 3   date     object \n",
      " 4   title    object \n",
      " 5   genres   object \n",
      "dtypes: float64(1), int64(2), object(3)\n",
      "memory usage: 915.5+ MB\n"
     ]
    }
   ],
   "source": [
    "movie_ratings.info()"
   ]
  },
  {
   "cell_type": "code",
   "execution_count": 36,
   "id": "68d33941",
   "metadata": {},
   "outputs": [
    {
     "data": {
      "text/html": [
       "<div>\n",
       "<style scoped>\n",
       "    .dataframe tbody tr th:only-of-type {\n",
       "        vertical-align: middle;\n",
       "    }\n",
       "\n",
       "    .dataframe tbody tr th {\n",
       "        vertical-align: top;\n",
       "    }\n",
       "\n",
       "    .dataframe thead th {\n",
       "        text-align: right;\n",
       "    }\n",
       "</style>\n",
       "<table border=\"1\" class=\"dataframe\">\n",
       "  <thead>\n",
       "    <tr style=\"text-align: right;\">\n",
       "      <th></th>\n",
       "      <th>userId</th>\n",
       "      <th>movieId</th>\n",
       "      <th>rating</th>\n",
       "    </tr>\n",
       "  </thead>\n",
       "  <tbody>\n",
       "    <tr>\n",
       "      <th>count</th>\n",
       "      <td>2.000026e+07</td>\n",
       "      <td>2.000026e+07</td>\n",
       "      <td>2.000026e+07</td>\n",
       "    </tr>\n",
       "    <tr>\n",
       "      <th>mean</th>\n",
       "      <td>6.904587e+04</td>\n",
       "      <td>9.041567e+03</td>\n",
       "      <td>3.525529e+00</td>\n",
       "    </tr>\n",
       "    <tr>\n",
       "      <th>std</th>\n",
       "      <td>4.003863e+04</td>\n",
       "      <td>1.978948e+04</td>\n",
       "      <td>1.051989e+00</td>\n",
       "    </tr>\n",
       "    <tr>\n",
       "      <th>min</th>\n",
       "      <td>1.000000e+00</td>\n",
       "      <td>1.000000e+00</td>\n",
       "      <td>5.000000e-01</td>\n",
       "    </tr>\n",
       "    <tr>\n",
       "      <th>25%</th>\n",
       "      <td>3.439500e+04</td>\n",
       "      <td>9.020000e+02</td>\n",
       "      <td>3.000000e+00</td>\n",
       "    </tr>\n",
       "    <tr>\n",
       "      <th>50%</th>\n",
       "      <td>6.914100e+04</td>\n",
       "      <td>2.167000e+03</td>\n",
       "      <td>3.500000e+00</td>\n",
       "    </tr>\n",
       "    <tr>\n",
       "      <th>75%</th>\n",
       "      <td>1.036370e+05</td>\n",
       "      <td>4.770000e+03</td>\n",
       "      <td>4.000000e+00</td>\n",
       "    </tr>\n",
       "    <tr>\n",
       "      <th>max</th>\n",
       "      <td>1.384930e+05</td>\n",
       "      <td>1.312620e+05</td>\n",
       "      <td>5.000000e+00</td>\n",
       "    </tr>\n",
       "  </tbody>\n",
       "</table>\n",
       "</div>"
      ],
      "text/plain": [
       "             userId       movieId        rating\n",
       "count  2.000026e+07  2.000026e+07  2.000026e+07\n",
       "mean   6.904587e+04  9.041567e+03  3.525529e+00\n",
       "std    4.003863e+04  1.978948e+04  1.051989e+00\n",
       "min    1.000000e+00  1.000000e+00  5.000000e-01\n",
       "25%    3.439500e+04  9.020000e+02  3.000000e+00\n",
       "50%    6.914100e+04  2.167000e+03  3.500000e+00\n",
       "75%    1.036370e+05  4.770000e+03  4.000000e+00\n",
       "max    1.384930e+05  1.312620e+05  5.000000e+00"
      ]
     },
     "execution_count": 36,
     "metadata": {},
     "output_type": "execute_result"
    }
   ],
   "source": [
    "movie_ratings.describe()"
   ]
  },
  {
   "cell_type": "code",
   "execution_count": 37,
   "id": "09e0b1ac",
   "metadata": {},
   "outputs": [
    {
     "data": {
      "text/plain": [
       "userId     0\n",
       "movieId    0\n",
       "rating     0\n",
       "date       0\n",
       "title      0\n",
       "genres     0\n",
       "dtype: int64"
      ]
     },
     "execution_count": 37,
     "metadata": {},
     "output_type": "execute_result"
    }
   ],
   "source": [
    "movie_ratings.isna().sum()"
   ]
  },
  {
   "cell_type": "code",
   "execution_count": 40,
   "id": "775e53f8",
   "metadata": {},
   "outputs": [
    {
     "name": "stdout",
     "output_type": "stream",
     "text": [
      "The count of unique userID in the dataset is :  138493\n",
      "The top 5 userID in the dataset are : \n",
      " 118205    9254\n",
      "8405      7515\n",
      "82418     5646\n",
      "121535    5520\n",
      "125794    5491\n",
      "Name: userId, dtype: int64\n"
     ]
    }
   ],
   "source": [
    "# Checking the feature \"userID\"\n",
    "\n",
    "total_users = len(np.unique(movie_ratings[\"userId\"]))\n",
    "print(\"The count of unique userID in the dataset is : \", total_users)\n",
    "print(\"The top 5 userID in the dataset are : \\n\", movie_ratings[\"userId\"].value_counts()[:5])"
   ]
  },
  {
   "cell_type": "code",
   "execution_count": 41,
   "id": "74ee93bc",
   "metadata": {},
   "outputs": [
    {
     "name": "stdout",
     "output_type": "stream",
     "text": [
      "The count of unique movieID in the dataset is :  26744\n",
      "The top 5 movieID in the dataset are : \n",
      " 296    67310\n",
      "356    66172\n",
      "318    63366\n",
      "593    63299\n",
      "480    59715\n",
      "Name: movieId, dtype: int64\n"
     ]
    }
   ],
   "source": [
    "#Checking the feature \"movieID\"\n",
    "total_movies = len(np.unique(movie_ratings[\"movieId\"]))\n",
    "print(\"The count of unique movieID in the dataset is : \", total_movies)\n",
    "print(\"The top 5 movieID in the dataset are : \\n\", movie_ratings[\"movieId\"].value_counts()[:5])"
   ]
  },
  {
   "cell_type": "code",
   "execution_count": 42,
   "id": "024a7da8",
   "metadata": {},
   "outputs": [],
   "source": [
    "# Helper function to Change the numeric label in terms of Millions\n",
    "def changingLabels(number):\n",
    "\n",
    "    return str(number/10**6) + \"M\""
   ]
  },
  {
   "cell_type": "code",
   "execution_count": 43,
   "id": "470f5034",
   "metadata": {},
   "outputs": [
    {
     "data": {
      "image/png": "[encoded data removed]",
      "text/plain": [
       "<Figure size 2500x500 with 1 Axes>"
      ]
     },
     "metadata": {},
     "output_type": "display_data"
    }
   ],
   "source": [
    "# Checking the feature \"rating\"\n",
    "sns.set(style=\"darkgrid\")\n",
    "fig, axes = plt.subplots(1, 1, figsize=(25, 5), sharey=True)\n",
    "\n",
    "sns.countplot(\"rating\", data=movie_ratings, ax=axes)\n",
    "axes.set_yticklabels([changingLabels(num) for num in axes.get_yticks()])\n",
    "for p in axes.patches:\n",
    "    axes.annotate('{}'.format(p.get_height()), (p.get_x()+0.2, p.get_height()+100))\n",
    "\n",
    "plt.tick_params(labelsize = 15)\n",
    "plt.title(\"Distribution of Ratings in the dataset\", fontsize = 20)\n",
    "plt.xlabel(\"Ratings\", fontsize = 10)\n",
    "plt.ylabel(\"Counts(in Millions)\", fontsize = 10)\n",
    "plt.show()"
   ]
  },
  {
   "cell_type": "code",
   "execution_count": 44,
   "id": "2f4561a1",
   "metadata": {},
   "outputs": [
    {
     "name": "stdout",
     "output_type": "stream",
     "text": [
      "The count of unique date in the dataset is :  6911\n",
      "The first rating was given on :  1995-01-09\n",
      "The latest rating was given on :  2015-03-31\n",
      "The top 5 date in the dataset are : \n",
      " 2000-11-20    91753\n",
      "2005-03-22    76568\n",
      "1999-12-11    65077\n",
      "2008-10-29    55163\n",
      "2000-11-21    54131\n",
      "Name: date, dtype: int64\n"
     ]
    }
   ],
   "source": [
    "# Checking the feature \"date\"\n",
    "print(\"The count of unique date in the dataset is : \", movie_ratings[\"date\"].nunique())\n",
    "print(\"The first rating was given on : \", movie_ratings[\"date\"].min())\n",
    "print(\"The latest rating was given on : \", movie_ratings[\"date\"].max())\n",
    "print(\"The top 5 date in the dataset are : \\n\", movie_ratings[\"date\"].value_counts()[:5])"
   ]
  },
  {
   "cell_type": "code",
   "execution_count": 45,
   "id": "9487701d",
   "metadata": {},
   "outputs": [
    {
     "name": "stdout",
     "output_type": "stream",
     "text": [
      "The count of unique title in the dataset is :  26729\n",
      "The top 5 title in the dataset are : \n",
      " Pulp Fiction (1994)                 67310\n",
      "Forrest Gump (1994)                 66172\n",
      "Shawshank Redemption, The (1994)    63366\n",
      "Silence of the Lambs, The (1991)    63299\n",
      "Jurassic Park (1993)                59715\n",
      "Name: title, dtype: int64\n"
     ]
    }
   ],
   "source": [
    "# Checking the feature \"title\"\n",
    "movie_list = movie_ratings[\"title\"].unique()\n",
    "print(\"The count of unique title in the dataset is : \", movie_ratings[\"title\"].nunique())\n",
    "print(\"The top 5 title in the dataset are : \\n\", movie_ratings[\"title\"].value_counts()[:5])"
   ]
  },
  {
   "cell_type": "code",
   "execution_count": 48,
   "id": "2e84b00a",
   "metadata": {},
   "outputs": [
    {
     "name": "stdout",
     "output_type": "stream",
     "text": [
      "Genres Extracted from the dataset.\n"
     ]
    }
   ],
   "source": [
    "#Extract unique Genres along with their count\n",
    "\n",
    "unique_genres = {}\n",
    "\n",
    "def ExtractGenres(x):\n",
    "    for g in x.split(\"|\"):\n",
    "        if g not in unique_genres.keys():\n",
    "            unique_genres[g] = 1\n",
    "        else:\n",
    "            unique_genres[g] = unique_genres[g] + 1\n",
    "\n",
    "movie_ratings[\"genres\"].apply(ExtractGenres)\n",
    "print(\"Genres Extracted from the dataset.\")"
   ]
  },
  {
   "cell_type": "code",
   "execution_count": 49,
   "id": "c5a2e71d",
   "metadata": {},
   "outputs": [
    {
     "data": {
      "image/png": "[encoded data removed]",
      "text/plain": [
       "<Figure size 2500x800 with 1 Axes>"
      ]
     },
     "metadata": {},
     "output_type": "display_data"
    }
   ],
   "source": [
    "#Visualizing the feature \"Genres\"\n",
    "\n",
    "genres_df = pd.DataFrame(list(unique_genres.items()))\n",
    "genres_df.columns = [\"Genre\", \"Count\"] \n",
    "\n",
    "sns.set(style=\"darkgrid\")\n",
    "fig, axes = plt.subplots(1, 1, figsize=(25, 8), sharey=True)\n",
    "\n",
    "sns.barplot(y=\"Count\", x=\"Genre\", data=genres_df, ax=axes)\n",
    "axes.set_yticklabels([changingLabels(num) for num in axes.get_yticks()])\n",
    "for p in axes.patches:\n",
    "    axes.annotate('{}'.format(int(p.get_height())), (p.get_x(), p.get_height()+100))\n",
    "\n",
    "plt.tick_params(labelsize = 15)\n",
    "plt.title(\"Distribution of Genres in the dataset\", fontsize = 20)\n",
    "plt.xlabel(\"Genres\", fontsize = 15)\n",
    "plt.xticks(rotation=60, fontsize=10)\n",
    "plt.yticks(fontsize=10)\n",
    "plt.ylabel(\"Counts (in Millions)\", fontsize = 15)\n",
    "plt.show()\n",
    "     "
   ]
  },
  {
   "cell_type": "code",
   "execution_count": 50,
   "id": "b246d2c1",
   "metadata": {},
   "outputs": [
    {
     "data": {
      "text/html": [
       "<div>\n",
       "<style scoped>\n",
       "    .dataframe tbody tr th:only-of-type {\n",
       "        vertical-align: middle;\n",
       "    }\n",
       "\n",
       "    .dataframe tbody tr th {\n",
       "        vertical-align: top;\n",
       "    }\n",
       "\n",
       "    .dataframe thead th {\n",
       "        text-align: right;\n",
       "    }\n",
       "</style>\n",
       "<table border=\"1\" class=\"dataframe\">\n",
       "  <thead>\n",
       "    <tr style=\"text-align: right;\">\n",
       "      <th></th>\n",
       "      <th>Genre</th>\n",
       "      <th>Count</th>\n",
       "    </tr>\n",
       "  </thead>\n",
       "  <tbody>\n",
       "    <tr>\n",
       "      <th>0</th>\n",
       "      <td>Comedy</td>\n",
       "      <td>7502234</td>\n",
       "    </tr>\n",
       "    <tr>\n",
       "      <th>1</th>\n",
       "      <td>Crime</td>\n",
       "      <td>3298335</td>\n",
       "    </tr>\n",
       "    <tr>\n",
       "      <th>2</th>\n",
       "      <td>Mystery</td>\n",
       "      <td>1557282</td>\n",
       "    </tr>\n",
       "    <tr>\n",
       "      <th>3</th>\n",
       "      <td>Thriller</td>\n",
       "      <td>5313506</td>\n",
       "    </tr>\n",
       "    <tr>\n",
       "      <th>4</th>\n",
       "      <td>Drama</td>\n",
       "      <td>8857853</td>\n",
       "    </tr>\n",
       "    <tr>\n",
       "      <th>5</th>\n",
       "      <td>Fantasy</td>\n",
       "      <td>2111403</td>\n",
       "    </tr>\n",
       "    <tr>\n",
       "      <th>6</th>\n",
       "      <td>Romance</td>\n",
       "      <td>3802002</td>\n",
       "    </tr>\n",
       "    <tr>\n",
       "      <th>7</th>\n",
       "      <td>Action</td>\n",
       "      <td>5614208</td>\n",
       "    </tr>\n",
       "    <tr>\n",
       "      <th>8</th>\n",
       "      <td>Adventure</td>\n",
       "      <td>4380351</td>\n",
       "    </tr>\n",
       "    <tr>\n",
       "      <th>9</th>\n",
       "      <td>Animation</td>\n",
       "      <td>1140476</td>\n",
       "    </tr>\n",
       "    <tr>\n",
       "      <th>10</th>\n",
       "      <td>Children</td>\n",
       "      <td>1669249</td>\n",
       "    </tr>\n",
       "    <tr>\n",
       "      <th>11</th>\n",
       "      <td>Sci-Fi</td>\n",
       "      <td>3150141</td>\n",
       "    </tr>\n",
       "    <tr>\n",
       "      <th>12</th>\n",
       "      <td>Horror</td>\n",
       "      <td>1482737</td>\n",
       "    </tr>\n",
       "    <tr>\n",
       "      <th>13</th>\n",
       "      <td>Musical</td>\n",
       "      <td>870915</td>\n",
       "    </tr>\n",
       "    <tr>\n",
       "      <th>14</th>\n",
       "      <td>War</td>\n",
       "      <td>1048618</td>\n",
       "    </tr>\n",
       "    <tr>\n",
       "      <th>15</th>\n",
       "      <td>Documentary</td>\n",
       "      <td>244619</td>\n",
       "    </tr>\n",
       "    <tr>\n",
       "      <th>16</th>\n",
       "      <td>Western</td>\n",
       "      <td>423714</td>\n",
       "    </tr>\n",
       "    <tr>\n",
       "      <th>17</th>\n",
       "      <td>Film-Noir</td>\n",
       "      <td>216689</td>\n",
       "    </tr>\n",
       "    <tr>\n",
       "      <th>18</th>\n",
       "      <td>IMAX</td>\n",
       "      <td>492366</td>\n",
       "    </tr>\n",
       "    <tr>\n",
       "      <th>19</th>\n",
       "      <td>(no genres listed)</td>\n",
       "      <td>361</td>\n",
       "    </tr>\n",
       "  </tbody>\n",
       "</table>\n",
       "</div>"
      ],
      "text/plain": [
       "                 Genre    Count\n",
       "0               Comedy  7502234\n",
       "1                Crime  3298335\n",
       "2              Mystery  1557282\n",
       "3             Thriller  5313506\n",
       "4                Drama  8857853\n",
       "5              Fantasy  2111403\n",
       "6              Romance  3802002\n",
       "7               Action  5614208\n",
       "8            Adventure  4380351\n",
       "9            Animation  1140476\n",
       "10            Children  1669249\n",
       "11              Sci-Fi  3150141\n",
       "12              Horror  1482737\n",
       "13             Musical   870915\n",
       "14                 War  1048618\n",
       "15         Documentary   244619\n",
       "16             Western   423714\n",
       "17           Film-Noir   216689\n",
       "18                IMAX   492366\n",
       "19  (no genres listed)      361"
      ]
     },
     "execution_count": 50,
     "metadata": {},
     "output_type": "execute_result"
    }
   ],
   "source": [
    "genres_df"
   ]
  },
  {
   "cell_type": "code",
   "execution_count": 51,
   "id": "053601e1",
   "metadata": {},
   "outputs": [
    {
     "name": "stdout",
     "output_type": "stream",
     "text": [
      "Creating Train Data and saving it..\n",
      "Creating Test Data and saving it..\n"
     ]
    }
   ],
   "source": [
    "# Creating the train test set\n",
    "\n",
    "file_path = r\"/Users/briangor/Downloads/\"\n",
    "\n",
    "if not os.path.isfile(file_path + \"/TrainData.pkl\"):\n",
    "    print(\"Creating Train Data and saving it..\")\n",
    "    movie_ratings.iloc[:int(movie_ratings.shape[0] * 0.80)].to_pickle(file_path + \"/TrainData.pkl\")\n",
    "    Train_Data = pd.read_pickle(file_path + \"/TrainData.pkl\")\n",
    "    Train_Data.reset_index(drop = True, inplace = True)\n",
    "else:\n",
    "    print(\"Loading Train Data..\")\n",
    "    Train_Data = pd.read_pickle(file_path + \"/TrainData.pkl\")\n",
    "    Train_Data.reset_index(drop = True, inplace = True)\n",
    "\n",
    "if not os.path.isfile(file_path + \"/TestData.pkl\"):\n",
    "    print(\"Creating Test Data and saving it..\")\n",
    "    movie_ratings.iloc[int(movie_ratings.shape[0] * 0.80):].to_pickle(file_path + \"/TestData.pkl\")\n",
    "    Test_Data = pd.read_pickle(file_path + \"/TestData.pkl\")\n",
    "    Test_Data.reset_index(drop = True, inplace = True)\n",
    "else:\n",
    "    print(\"Loading Test Data..\")\n",
    "    Test_Data = pd.read_pickle(file_path + \"/TestData.pkl\")\n",
    "    Test_Data.reset_index(drop = True, inplace = True)"
   ]
  },
  {
   "cell_type": "code",
   "execution_count": 52,
   "id": "0e39fb26",
   "metadata": {},
   "outputs": [
    {
     "data": {
      "text/html": [
       "<div>\n",
       "<style scoped>\n",
       "    .dataframe tbody tr th:only-of-type {\n",
       "        vertical-align: middle;\n",
       "    }\n",
       "\n",
       "    .dataframe tbody tr th {\n",
       "        vertical-align: top;\n",
       "    }\n",
       "\n",
       "    .dataframe thead th {\n",
       "        text-align: right;\n",
       "    }\n",
       "</style>\n",
       "<table border=\"1\" class=\"dataframe\">\n",
       "  <thead>\n",
       "    <tr style=\"text-align: right;\">\n",
       "      <th></th>\n",
       "      <th>userId</th>\n",
       "      <th>movieId</th>\n",
       "      <th>rating</th>\n",
       "      <th>date</th>\n",
       "      <th>title</th>\n",
       "      <th>genres</th>\n",
       "    </tr>\n",
       "  </thead>\n",
       "  <tbody>\n",
       "    <tr>\n",
       "      <th>0</th>\n",
       "      <td>131160</td>\n",
       "      <td>1079</td>\n",
       "      <td>3.0</td>\n",
       "      <td>1995-01-09</td>\n",
       "      <td>Fish Called Wanda, A (1988)</td>\n",
       "      <td>Comedy|Crime</td>\n",
       "    </tr>\n",
       "    <tr>\n",
       "      <th>1</th>\n",
       "      <td>131160</td>\n",
       "      <td>47</td>\n",
       "      <td>5.0</td>\n",
       "      <td>1995-01-09</td>\n",
       "      <td>Seven (a.k.a. Se7en) (1995)</td>\n",
       "      <td>Mystery|Thriller</td>\n",
       "    </tr>\n",
       "    <tr>\n",
       "      <th>2</th>\n",
       "      <td>28507</td>\n",
       "      <td>1176</td>\n",
       "      <td>4.0</td>\n",
       "      <td>1995-01-09</td>\n",
       "      <td>Double Life of Veronique, The (Double Vie de V...</td>\n",
       "      <td>Drama|Fantasy|Romance</td>\n",
       "    </tr>\n",
       "    <tr>\n",
       "      <th>3</th>\n",
       "      <td>131160</td>\n",
       "      <td>21</td>\n",
       "      <td>3.0</td>\n",
       "      <td>1995-01-09</td>\n",
       "      <td>Get Shorty (1995)</td>\n",
       "      <td>Comedy|Crime|Thriller</td>\n",
       "    </tr>\n",
       "    <tr>\n",
       "      <th>4</th>\n",
       "      <td>85252</td>\n",
       "      <td>7</td>\n",
       "      <td>5.0</td>\n",
       "      <td>1996-01-29</td>\n",
       "      <td>Sabrina (1995)</td>\n",
       "      <td>Comedy|Romance</td>\n",
       "    </tr>\n",
       "  </tbody>\n",
       "</table>\n",
       "</div>"
      ],
      "text/plain": [
       "   userId  movieId  rating        date  \\\n",
       "0  131160     1079     3.0  1995-01-09   \n",
       "1  131160       47     5.0  1995-01-09   \n",
       "2   28507     1176     4.0  1995-01-09   \n",
       "3  131160       21     3.0  1995-01-09   \n",
       "4   85252        7     5.0  1996-01-29   \n",
       "\n",
       "                                               title                 genres  \n",
       "0                        Fish Called Wanda, A (1988)           Comedy|Crime  \n",
       "1                        Seven (a.k.a. Se7en) (1995)       Mystery|Thriller  \n",
       "2  Double Life of Veronique, The (Double Vie de V...  Drama|Fantasy|Romance  \n",
       "3                                  Get Shorty (1995)  Comedy|Crime|Thriller  \n",
       "4                                     Sabrina (1995)         Comedy|Romance  "
      ]
     },
     "execution_count": 52,
     "metadata": {},
     "output_type": "execute_result"
    }
   ],
   "source": [
    "Train_Data.head()"
   ]
  },
  {
   "cell_type": "code",
   "execution_count": 53,
   "id": "673e1b68",
   "metadata": {},
   "outputs": [
    {
     "data": {
      "text/html": [
       "<div>\n",
       "<style scoped>\n",
       "    .dataframe tbody tr th:only-of-type {\n",
       "        vertical-align: middle;\n",
       "    }\n",
       "\n",
       "    .dataframe tbody tr th {\n",
       "        vertical-align: top;\n",
       "    }\n",
       "\n",
       "    .dataframe thead th {\n",
       "        text-align: right;\n",
       "    }\n",
       "</style>\n",
       "<table border=\"1\" class=\"dataframe\">\n",
       "  <thead>\n",
       "    <tr style=\"text-align: right;\">\n",
       "      <th></th>\n",
       "      <th>movieId</th>\n",
       "      <th>title</th>\n",
       "      <th>genres</th>\n",
       "    </tr>\n",
       "  </thead>\n",
       "  <tbody>\n",
       "    <tr>\n",
       "      <th>0</th>\n",
       "      <td>1079</td>\n",
       "      <td>Fish Called Wanda, A (1988)</td>\n",
       "      <td>Comedy|Crime</td>\n",
       "    </tr>\n",
       "    <tr>\n",
       "      <th>1</th>\n",
       "      <td>47</td>\n",
       "      <td>Seven (a.k.a. Se7en) (1995)</td>\n",
       "      <td>Mystery|Thriller</td>\n",
       "    </tr>\n",
       "    <tr>\n",
       "      <th>2</th>\n",
       "      <td>1176</td>\n",
       "      <td>Double Life of Veronique, The (Double Vie de V...</td>\n",
       "      <td>Drama|Fantasy|Romance</td>\n",
       "    </tr>\n",
       "    <tr>\n",
       "      <th>3</th>\n",
       "      <td>21</td>\n",
       "      <td>Get Shorty (1995)</td>\n",
       "      <td>Comedy|Crime|Thriller</td>\n",
       "    </tr>\n",
       "    <tr>\n",
       "      <th>4</th>\n",
       "      <td>7</td>\n",
       "      <td>Sabrina (1995)</td>\n",
       "      <td>Comedy|Romance</td>\n",
       "    </tr>\n",
       "  </tbody>\n",
       "</table>\n",
       "</div>"
      ],
      "text/plain": [
       "   movieId                                              title  \\\n",
       "0     1079                        Fish Called Wanda, A (1988)   \n",
       "1       47                        Seven (a.k.a. Se7en) (1995)   \n",
       "2     1176  Double Life of Veronique, The (Double Vie de V...   \n",
       "3       21                                  Get Shorty (1995)   \n",
       "4        7                                     Sabrina (1995)   \n",
       "\n",
       "                  genres  \n",
       "0           Comedy|Crime  \n",
       "1       Mystery|Thriller  \n",
       "2  Drama|Fantasy|Romance  \n",
       "3  Comedy|Crime|Thriller  \n",
       "4         Comedy|Romance  "
      ]
     },
     "execution_count": 53,
     "metadata": {},
     "output_type": "execute_result"
    }
   ],
   "source": [
    "# Creating list of unique movies from Train Set\n",
    "movie_list_in_training = Train_Data.drop_duplicates(subset=[\"title\"], keep=\"first\")[[\"movieId\", \"title\", \"genres\"]]\n",
    "movie_list_in_training = movie_list_in_training.reset_index(drop=True)\n",
    "movie_list_in_training.head()"
   ]
  },
  {
   "cell_type": "code",
   "execution_count": 54,
   "id": "0a18c09d",
   "metadata": {},
   "outputs": [],
   "source": [
    "# Extracting the day of week from the date when rating was provided\n",
    "Train_Data[\"date\"] = pd.to_datetime(Train_Data[\"date\"], errors='coerce')\n",
    "Train_Data[\"DayOfWeek\"] = Train_Data[\"date\"].dt.strftime('%A')\n",
    "Train_Data[\"Weekday\"] = Train_Data[\"date\"].apply(lambda x : 1 if x.dayofweek > 5 else 0)\n",
    "     "
   ]
  },
  {
   "cell_type": "code",
   "execution_count": 55,
   "id": "60a212e5",
   "metadata": {},
   "outputs": [],
   "source": [
    "# Converting the number into 'Ks.\n",
    "\n",
    "def ChangingLabelsInK(number):\n",
    "    return str(int(number/10**3)) + \"K\""
   ]
  },
  {
   "cell_type": "code",
   "execution_count": 56,
   "id": "850ed359",
   "metadata": {},
   "outputs": [
    {
     "data": {
      "image/png": "[encoded data removed]",
      "text/plain": [
       "<Figure size 2500x500 with 1 Axes>"
      ]
     },
     "metadata": {},
     "output_type": "display_data"
    }
   ],
   "source": [
    "# Visualizing the count of total ratings made per month\n",
    "\n",
    "sns.set(style=\"darkgrid\")\n",
    "fig, axes = plt.subplots(1, 1, figsize=(25, 5), sharey=True)\n",
    "axes = Train_Data.resample(\"m\", on = \"date\")[\"rating\"].count().plot()\n",
    "\n",
    "axes.set_yticklabels([ChangingLabelsInK(num) for num in axes.get_yticks()])\n",
    "axes.set_title(\"Count of Total Ratings per Month\", fontsize = 20)\n",
    "axes.set_xlabel(\"Date\", fontsize = 15)\n",
    "axes.set_ylabel(\"Number of Ratings (in Millions)\", fontsize = 15)\n",
    "plt.tick_params(labelsize = 15)\n",
    "plt.show()"
   ]
  },
  {
   "cell_type": "markdown",
   "id": "2108cbf3",
   "metadata": {},
   "source": [
    "<h1> Feature Engineering </h1>"
   ]
  },
  {
   "cell_type": "code",
   "execution_count": 58,
   "id": "91e59d98",
   "metadata": {},
   "outputs": [],
   "source": [
    "# Path for loading/saving files\n",
    "file_path = r\"/Users/briangor/Downloads/\""
   ]
  },
  {
   "cell_type": "code",
   "execution_count": 59,
   "id": "2d9068cf",
   "metadata": {},
   "outputs": [
    {
     "name": "stdout",
     "output_type": "stream",
     "text": [
      "Creating USER_ITEM sparse matrix for train Data..\n",
      "We are creating sparse data..\n",
      "Creation done. Shape of sparse matrix :  (138494, 71766)\n",
      "Saving it into disk for furthur usage.\n",
      "Done\n",
      "\n",
      "Time taken :  0:00:37.248171\n"
     ]
    }
   ],
   "source": [
    "# Creating/loading user-movie sparse matrix for train data\n",
    "\n",
    "startTime = datetime.now()\n",
    "\n",
    "print(\"Creating USER_ITEM sparse matrix for train Data..\")\n",
    "\n",
    "if os.path.isfile(file_path + \"/TrainUISparseData.npz\"):\n",
    "    print(\"Sparse Data is already present in your disk, no need to create further. Loading Sparse Matrix\")\n",
    "    TrainUISparseData = sparse.load_npz(file_path + \"/TrainUISparseData.npz\")\n",
    "    print(\"Shape of Train Sparse matrix = \"+str(TrainUISparseData.shape))    \n",
    "else:\n",
    "    print(\"We are creating sparse data..\")\n",
    "    TrainUISparseData = sparse.csr_matrix((Train_Data.rating, (Train_Data.userId, Train_Data.movieId)))\n",
    "    print(\"Creation done. Shape of sparse matrix : \", str(TrainUISparseData.shape))\n",
    "    print(\"Saving it into disk for furthur usage.\")\n",
    "    sparse.save_npz(file_path + \"/TrainUISparseData.npz\", TrainUISparseData)\n",
    "    print(\"Done\\n\")\n",
    "\n",
    "print(\"Time taken : \", datetime.now() - startTime)"
   ]
  },
  {
   "cell_type": "code",
   "execution_count": 60,
   "id": "ad84d0f6",
   "metadata": {},
   "outputs": [
    {
     "name": "stdout",
     "output_type": "stream",
     "text": [
      "Sparsity Of Train matrix : 99.8390184950274% \n"
     ]
    }
   ],
   "source": [
    "rows,cols = TrainUISparseData.shape\n",
    "presentElements = TrainUISparseData.count_nonzero()\n",
    "\n",
    "print(\"Sparsity Of Train matrix : {}% \".format((1-(presentElements/(rows*cols)))*100))"
   ]
  },
  {
   "cell_type": "code",
   "execution_count": 61,
   "id": "e450710d",
   "metadata": {},
   "outputs": [
    {
     "name": "stdout",
     "output_type": "stream",
     "text": [
      "Creating USER_ITEM sparse matrix for test Data..\n",
      "We are creating sparse data..\n",
      "Creation done. Shape of sparse matrix :  (138494, 131263)\n",
      "Saving it into disk for furthur usage.\n",
      "Done\n",
      "\n",
      "Time Taken :  0:00:04.199095\n"
     ]
    }
   ],
   "source": [
    "# Creating/loading user-movie sparse matrix for test data\n",
    "\n",
    "startTime = datetime.now()\n",
    "\n",
    "print(\"Creating USER_ITEM sparse matrix for test Data..\")\n",
    "\n",
    "if os.path.isfile(file_path + \"/TestUISparseData.npz\"):\n",
    "    print(\"Sparse Data is already present in your disk, no need to create further. Loading Sparse Matrix\")\n",
    "    TestUISparseData = sparse.load_npz(file_path + \"/TestUISparseData.npz\")\n",
    "    print(\"Shape of Test Sparse Matrix : \", str(TestUISparseData.shape))\n",
    "else:\n",
    "    print(\"We are creating sparse data..\")\n",
    "    TestUISparseData = sparse.csr_matrix((Test_Data.rating, (Test_Data.userId, Test_Data.movieId)))\n",
    "    print(\"Creation done. Shape of sparse matrix : \", str(TestUISparseData.shape))\n",
    "    print(\"Saving it into disk for furthur usage.\")\n",
    "    sparse.save_npz(file_path + \"/TestUISparseData.npz\", TestUISparseData)\n",
    "    print(\"Done\\n\")\n",
    "\n",
    "print(\"Time Taken : \", datetime.now() - startTime)"
   ]
  },
  {
   "cell_type": "code",
   "execution_count": 62,
   "id": "1b2bf004",
   "metadata": {},
   "outputs": [
    {
     "name": "stdout",
     "output_type": "stream",
     "text": [
      "Sparsity Of Test matrix : 99.97799646486449% \n"
     ]
    }
   ],
   "source": [
    "rows,cols = TestUISparseData.shape\n",
    "presentElements = TestUISparseData.count_nonzero()\n",
    "\n",
    "print(\"Sparsity Of Test matrix : {}% \".format((1-(presentElements/(rows*cols)))*100))"
   ]
  },
  {
   "cell_type": "markdown",
   "id": "be4944c9",
   "metadata": {},
   "source": [
    "Observations:\n",
    "\n",
    "Shape of sparse matrix depends on highest value of userId and highest value of movieId.\n",
    "In the test set, there are few users from train set which is not present in the test set.\n",
    "For the movieId, there are less movies in the train set as compared to test set. The reason stems from the fact that we split the data based on time, and newer movies would have fallen into test set.\n",
    "The sparsity of train set is 99.19% while the sparsity of test set is 99.89%."
   ]
  },
  {
   "cell_type": "code",
   "execution_count": 63,
   "id": "a21a52fd",
   "metadata": {},
   "outputs": [],
   "source": [
    "# Function to Calculate Average rating for users or movies from User-movie sparse matrix\n",
    " \n",
    "def getAverageRatings(sparseMatrix, if_user):\n",
    "\n",
    "    #axis = 1 means rows and axis = 0 means columns \n",
    "    ax = 1 if if_user else 0\n",
    "\n",
    "    sumOfRatings = sparseMatrix.sum(axis = ax).A1  \n",
    "    noOfRatings = (sparseMatrix!=0).sum(axis = ax).A1  \n",
    "    rows, cols = sparseMatrix.shape\n",
    "    averageRatings = {i: sumOfRatings[i]/noOfRatings[i] for i in range(rows if if_user else cols) if noOfRatings[i]!=0}\n",
    "    \n",
    "    return averageRatings"
   ]
  },
  {
   "cell_type": "code",
   "execution_count": 64,
   "id": "c78679be",
   "metadata": {},
   "outputs": [
    {
     "name": "stdout",
     "output_type": "stream",
     "text": [
      "Total no. of Users :  138493\n",
      "No. of Users in Train data :  112466\n",
      "No. of Users not present in Train data : 26027(19.0%)\n"
     ]
    }
   ],
   "source": [
    "AvgRatingUser = getAverageRatings(TrainUISparseData, True)\n",
    "AvgRatingMovie = getAverageRatings(TrainUISparseData, False)\n",
    "train_users = len(AvgRatingUser)\n",
    "uncommonUsers = total_users - train_users\n",
    "                  \n",
    "print(\"Total no. of Users : \", total_users)\n",
    "print(\"No. of Users in Train data : \", train_users)\n",
    "print(\"No. of Users not present in Train data : {}({}%)\".format(uncommonUsers, np.round((uncommonUsers/total_users)*100), 2))\n",
    "     "
   ]
  },
  {
   "cell_type": "code",
   "execution_count": 65,
   "id": "6892fb7c",
   "metadata": {},
   "outputs": [
    {
     "name": "stdout",
     "output_type": "stream",
     "text": [
      "Total no. of Movies :  26744\n",
      "No. of Movies in Train data :  12387\n",
      "No. of Movies not present in Train data = 14357(54.0%)\n"
     ]
    }
   ],
   "source": [
    "train_movies = len(AvgRatingMovie)\n",
    "uncommonMovies = total_movies - train_movies\n",
    "                  \n",
    "print(\"Total no. of Movies : \", total_movies)\n",
    "print(\"No. of Movies in Train data : \", train_movies)\n",
    "print(\"No. of Movies not present in Train data = {}({}%)\".format(uncommonMovies, np.round((uncommonMovies/total_movies)*100), 2))"
   ]
  },
  {
   "cell_type": "markdown",
   "id": "03628674",
   "metadata": {},
   "source": [
    "bservations:\n",
    "\n",
    "Recommendation System suffers from Cold Start problems, which needs to be tackled wisely in order to design a effective system.\n",
    "There are 26027, ie 19% of the users are not present in the training data.\n",
    "There are 12387, ie 54% of the movies which are not present in the training data."
   ]
  },
  {
   "cell_type": "markdown",
   "id": "6fb43f04",
   "metadata": {},
   "source": [
    "<h2> Creating Similarity Matrix </h2>\n",
    "Computation of user-user or item-item similarity matrix is impossible if computational power is limited given we have a user vector of size 112K. There will be a matrix of size 14K x 14K.\n",
    "\n",
    "On the other hand, if we try to reduce the dimension say by truncated SVD then it would take even more time because truncated SVD creates dense matrix and amount of multiplication for creation of user-user similarity matrix would increase dramatically.\n",
    "\n",
    "For the workaround, we will maintain a binary Vector for users, which tells us whether we already computed similarity for this user or not or compute top (let's just say, 1000) most similar users for this given user, and add this to our datastructure, so that we can just access it(similar users) without recomputing it again.\n",
    "\n",
    "If it is already computed, just get it directly from our datastructure, which has that information. In production time, We might have to recompute similarities, if it is computed a long time ago. Because user preferences changes over time. If we could maintain some kind of Timer, which when expires, we have to update it ( recompute it ).\n",
    "\n",
    "The datastructure to be used is purely implementation dependant.One simple method is to maintain a Dictionary Of Dictionaries:\n",
    "\n",
    "key : userid\n",
    "value : Again a dictionary\n",
    "key : _Similar User\n",
    "value: Similarity Value>"
   ]
  },
  {
   "cell_type": "code",
   "execution_count": 66,
   "id": "eef39cf8",
   "metadata": {},
   "outputs": [
    {
     "name": "stdout",
     "output_type": "stream",
     "text": [
      "Movie-Movie Similarity file does not exist in your disk. Creating Movie-Movie Similarity Matrix...\n",
      "Dimension of Matrix :  (71766, 71766)\n",
      "Storing the Movie Similarity matrix on disk for further usage\n",
      "The time taken to compute movie-movie similarity matrix is :  0:03:48.500585\n"
     ]
    }
   ],
   "source": [
    "# Computing user-user similarity matrix for the train data\n",
    "# We have 138K sized sparse vectors using which a 14K x 14K movie similarity matrix would be calculated\n",
    "\n",
    "start = datetime.now()\n",
    "\n",
    "if not os.path.isfile(file_path + \"/m_m_similarity.npz\"):\n",
    "    print(\"Movie-Movie Similarity file does not exist in your disk. Creating Movie-Movie Similarity Matrix...\")\n",
    "    m_m_similarity = cosine_similarity(TrainUISparseData.T, dense_output = False)\n",
    "    print(\"Dimension of Matrix : \", m_m_similarity.shape)\n",
    "    print(\"Storing the Movie Similarity matrix on disk for further usage\")\n",
    "    sparse.save_npz(file_path + \"/m_m_similarity.npz\", m_m_similarity)\n",
    "else:\n",
    "    print(\"File exists in the disk. Loading the file...\")\n",
    "    m_m_similarity = sparse.load_npz(file_path + \"/m_m_similarity.npz\")\n",
    "    print(\"Dimension of Matrix : \", m_m_similarity.shape)\n",
    "    \n",
    "print(\"The time taken to compute movie-movie similarity matrix is : \", datetime.now() - start)"
   ]
  },
  {
   "cell_type": "code",
   "execution_count": 67,
   "id": "6013eb2c",
   "metadata": {},
   "outputs": [],
   "source": [
    "# Creating a function to take Movie Name and generate the top matched name and generate its N similar movies based on M-M Similary\n",
    "\n",
    "def GetSimilarMoviesUsingMovieMovieSimilarity(movie_name, num_of_similar_movies):\n",
    "    matches = process.extract(movie_name, movie_list_in_training[\"title\"], scorer=fuzz.partial_ratio)\n",
    "    if len(matches) == 0:\n",
    "        return \"No Match Found\"\n",
    "    movie_id = movie_list_in_training.iloc[matches[0][2]][\"movieId\"]\n",
    "    similar_movie_id_list = np.argsort(-m_m_similarity[movie_id].toarray().ravel())[0:num_of_similar_movies+1]\n",
    "    sm_df = movie_list_in_training[movie_list_in_training[\"movieId\"].isin(similar_movie_id_list)]\n",
    "    sm_df[\"order\"] = sm_df.apply(lambda x: list(similar_movie_id_list).index(x[\"movieId\"]), axis=1)\n",
    "    \n",
    "    return sm_df.sort_values(\"order\")"
   ]
  },
  {
   "cell_type": "code",
   "execution_count": 68,
   "id": "735f9a5b",
   "metadata": {},
   "outputs": [
    {
     "data": {
      "text/html": [
       "<div>\n",
       "<style scoped>\n",
       "    .dataframe tbody tr th:only-of-type {\n",
       "        vertical-align: middle;\n",
       "    }\n",
       "\n",
       "    .dataframe tbody tr th {\n",
       "        vertical-align: top;\n",
       "    }\n",
       "\n",
       "    .dataframe thead th {\n",
       "        text-align: right;\n",
       "    }\n",
       "</style>\n",
       "<table border=\"1\" class=\"dataframe\">\n",
       "  <thead>\n",
       "    <tr style=\"text-align: right;\">\n",
       "      <th></th>\n",
       "      <th>movieId</th>\n",
       "      <th>title</th>\n",
       "      <th>genres</th>\n",
       "      <th>order</th>\n",
       "    </tr>\n",
       "  </thead>\n",
       "  <tbody>\n",
       "    <tr>\n",
       "      <th>2526</th>\n",
       "      <td>2641</td>\n",
       "      <td>Superman II (1980)</td>\n",
       "      <td>Action|Sci-Fi</td>\n",
       "      <td>0</td>\n",
       "    </tr>\n",
       "    <tr>\n",
       "      <th>2530</th>\n",
       "      <td>2642</td>\n",
       "      <td>Superman III (1983)</td>\n",
       "      <td>Action|Adventure|Sci-Fi</td>\n",
       "      <td>1</td>\n",
       "    </tr>\n",
       "    <tr>\n",
       "      <th>2527</th>\n",
       "      <td>2640</td>\n",
       "      <td>Superman (1978)</td>\n",
       "      <td>Action|Adventure|Sci-Fi</td>\n",
       "      <td>2</td>\n",
       "    </tr>\n",
       "    <tr>\n",
       "      <th>2531</th>\n",
       "      <td>2643</td>\n",
       "      <td>Superman IV: The Quest for Peace (1987)</td>\n",
       "      <td>Action|Adventure|Sci-Fi</td>\n",
       "      <td>3</td>\n",
       "    </tr>\n",
       "    <tr>\n",
       "      <th>2877</th>\n",
       "      <td>2985</td>\n",
       "      <td>RoboCop (1987)</td>\n",
       "      <td>Action|Crime|Drama|Sci-Fi|Thriller</td>\n",
       "      <td>4</td>\n",
       "    </tr>\n",
       "    <tr>\n",
       "      <th>1340</th>\n",
       "      <td>1375</td>\n",
       "      <td>Star Trek III: The Search for Spock (1984)</td>\n",
       "      <td>Action|Adventure|Sci-Fi</td>\n",
       "      <td>5</td>\n",
       "    </tr>\n",
       "    <tr>\n",
       "      <th>2012</th>\n",
       "      <td>2105</td>\n",
       "      <td>Tron (1982)</td>\n",
       "      <td>Action|Adventure|Sci-Fi</td>\n",
       "      <td>6</td>\n",
       "    </tr>\n",
       "    <tr>\n",
       "      <th>1339</th>\n",
       "      <td>1374</td>\n",
       "      <td>Star Trek II: The Wrath of Khan (1982)</td>\n",
       "      <td>Action|Adventure|Sci-Fi|Thriller</td>\n",
       "      <td>7</td>\n",
       "    </tr>\n",
       "    <tr>\n",
       "      <th>1341</th>\n",
       "      <td>1376</td>\n",
       "      <td>Star Trek IV: The Voyage Home (1986)</td>\n",
       "      <td>Adventure|Comedy|Sci-Fi</td>\n",
       "      <td>8</td>\n",
       "    </tr>\n",
       "    <tr>\n",
       "      <th>2807</th>\n",
       "      <td>2916</td>\n",
       "      <td>Total Recall (1990)</td>\n",
       "      <td>Action|Adventure|Sci-Fi|Thriller</td>\n",
       "      <td>9</td>\n",
       "    </tr>\n",
       "    <tr>\n",
       "      <th>1345</th>\n",
       "      <td>1371</td>\n",
       "      <td>Star Trek: The Motion Picture (1979)</td>\n",
       "      <td>Adventure|Sci-Fi</td>\n",
       "      <td>10</td>\n",
       "    </tr>\n",
       "  </tbody>\n",
       "</table>\n",
       "</div>"
      ],
      "text/plain": [
       "      movieId                                       title  \\\n",
       "2526     2641                          Superman II (1980)   \n",
       "2530     2642                         Superman III (1983)   \n",
       "2527     2640                             Superman (1978)   \n",
       "2531     2643     Superman IV: The Quest for Peace (1987)   \n",
       "2877     2985                              RoboCop (1987)   \n",
       "1340     1375  Star Trek III: The Search for Spock (1984)   \n",
       "2012     2105                                 Tron (1982)   \n",
       "1339     1374      Star Trek II: The Wrath of Khan (1982)   \n",
       "1341     1376        Star Trek IV: The Voyage Home (1986)   \n",
       "2807     2916                         Total Recall (1990)   \n",
       "1345     1371        Star Trek: The Motion Picture (1979)   \n",
       "\n",
       "                                  genres  order  \n",
       "2526                       Action|Sci-Fi      0  \n",
       "2530             Action|Adventure|Sci-Fi      1  \n",
       "2527             Action|Adventure|Sci-Fi      2  \n",
       "2531             Action|Adventure|Sci-Fi      3  \n",
       "2877  Action|Crime|Drama|Sci-Fi|Thriller      4  \n",
       "1340             Action|Adventure|Sci-Fi      5  \n",
       "2012             Action|Adventure|Sci-Fi      6  \n",
       "1339    Action|Adventure|Sci-Fi|Thriller      7  \n",
       "1341             Adventure|Comedy|Sci-Fi      8  \n",
       "2807    Action|Adventure|Sci-Fi|Thriller      9  \n",
       "1345                    Adventure|Sci-Fi     10  "
      ]
     },
     "execution_count": 68,
     "metadata": {},
     "output_type": "execute_result"
    }
   ],
   "source": [
    "# Picking random movie and checking it's top 10 most similar movies\n",
    "\n",
    "GetSimilarMoviesUsingMovieMovieSimilarity(\"Superman\", 10)"
   ]
  },
  {
   "cell_type": "markdown",
   "id": "ab056fee",
   "metadata": {},
   "source": [
    "<h3> 2.2. Computing User-User Similarity Matrix. </h3>"
   ]
  },
  {
   "cell_type": "code",
   "execution_count": 69,
   "id": "8513632f",
   "metadata": {},
   "outputs": [
    {
     "name": "stdout",
     "output_type": "stream",
     "text": [
      "Max User id is : 138493\n"
     ]
    }
   ],
   "source": [
    "#Getting highest user id\n",
    "\n",
    "row_index, col_index = TrainUISparseData.nonzero()\n",
    "unique_user_id = np.unique(row_index)\n",
    "print(\"Max User id is :\", np.max(unique_user_id))"
   ]
  },
  {
   "cell_type": "code",
   "execution_count": 70,
   "id": "3ebdb189",
   "metadata": {},
   "outputs": [
    {
     "name": "stdout",
     "output_type": "stream",
     "text": [
      "Time elapsed for 20 users = 0:00:13.128574sec\n",
      "Time elapsed for 40 users = 0:00:24.799071sec\n",
      "Time elapsed for 60 users = 0:00:42.213000sec\n",
      "Time elapsed for 80 users = 0:00:53.202004sec\n",
      "Time elapsed for 100 users = 0:01:04.002468sec\n",
      "Average Time taken to compute similarity matrix for 1 user = 0.6208711886405944seconds\n"
     ]
    },
    {
     "data": {
      "image/png": "[encoded data removed]",
      "text/plain": [
       "<Figure size 2500x500 with 1 Axes>"
      ]
     },
     "metadata": {},
     "output_type": "display_data"
    }
   ],
   "source": [
    "# Here, we are calculating user-user similarity matrix only for first 100 users in our sparse matrix. And we are calculating \n",
    "# Top 100 most similar users with them.\n",
    "\n",
    "def getUser_UserSimilarity(sparseMatrix, top = 100):\n",
    "    startTimestamp20 = datetime.now()  \n",
    "    \n",
    "    row_index, col_index = sparseMatrix.nonzero()\n",
    "    rows = np.unique(row_index)\n",
    "    similarMatrix = np.zeros(13849300).reshape(138493,100)    # 138493*100 = 13849300. As we are building similarity matrix only \n",
    "    #for top 100 most similar users.\n",
    "    timeTaken = []\n",
    "    howManyDone = 0\n",
    "    for row in rows[:top]:\n",
    "        howManyDone += 1\n",
    "        startTimestamp = datetime.now().timestamp()  #it will give seconds elapsed\n",
    "        sim = cosine_similarity(sparseMatrix.getrow(row), sparseMatrix).ravel()\n",
    "        top100_similar_indices = sim.argsort()[-top:]\n",
    "        top100_similar = sim[top100_similar_indices]\n",
    "        similarMatrix[row] = top100_similar\n",
    "        timeforOne = datetime.now().timestamp() - startTimestamp\n",
    "        timeTaken.append(timeforOne)\n",
    "        if howManyDone % 20 == 0:\n",
    "            print(\"Time elapsed for {} users = {}sec\".format(howManyDone, (datetime.now() - startTimestamp20)))\n",
    "    print(\"Average Time taken to compute similarity matrix for 1 user = \"+str(sum(timeTaken)/len(timeTaken))+\"seconds\")\n",
    "\n",
    "    sns.set(style=\"darkgrid\")\n",
    "    fig = plt.figure(figsize = (25, 5))\n",
    "    plt.plot(timeTaken, label = 'Time Taken For Each User')\n",
    "    plt.plot(np.cumsum(timeTaken), label='Cumulative Time')\n",
    "    plt.legend(loc='upper left', fontsize = 15)\n",
    "    plt.xlabel('Users', fontsize = 20)\n",
    "    plt.ylabel('Time(Seconds)', fontsize = 20)\n",
    "    plt.tick_params(labelsize = 15)\n",
    "    plt.show()\n",
    "    \n",
    "    return similarMatrix\n",
    "\n",
    "simMatrix = getUser_UserSimilarity(TrainUISparseData, 100)"
   ]
  },
  {
   "cell_type": "code",
   "execution_count": 71,
   "id": "cbeb18ab",
   "metadata": {},
   "outputs": [],
   "source": [
    "# Calculating user-user similarity only for particular users in our sparse matrix and return user_ids\n",
    "\n",
    "def Calculate_User_User_Similarity(sparseMatrix, user_id, num_of_similar_users=10):\n",
    "    \n",
    "    if user_id in unique_user_id:\n",
    "        # Calculating the cosine similarity for user_id with all the \"userId\"\n",
    "        sim = cosine_similarity(sparseMatrix.getrow(user_id), sparseMatrix).ravel()\n",
    "        # Sorting the indexs(user_id) based on the similarity score for all the user ids\n",
    "        top_similar_user_ids = sim.argsort()[::-1]\n",
    "        # Sorted the similarity values\n",
    "        top_similarity_values = sim[top_similar_user_ids]\n",
    "\n",
    "    return top_similar_user_ids[1: num_of_similar_users+1]"
   ]
  },
  {
   "cell_type": "code",
   "execution_count": 72,
   "id": "906d75e3",
   "metadata": {},
   "outputs": [
    {
     "data": {
      "text/plain": [
       "array([81275, 62235,  2595, 75328, 34101])"
      ]
     },
     "execution_count": 72,
     "metadata": {},
     "output_type": "execute_result"
    }
   ],
   "source": [
    "# Getting top 5 users similar to userId: 1\n",
    "\n",
    "similar_users_1 = Calculate_User_User_Similarity(TrainUISparseData, 1, 5)\n",
    "similar_users_1"
   ]
  },
  {
   "cell_type": "markdown",
   "id": "1dfc2ef3",
   "metadata": {},
   "source": [
    "<h3> 3.3.2 Feature Extraction </h3>\n"
   ]
  },
  {
   "cell_type": "code",
   "execution_count": 73,
   "id": "32189af1",
   "metadata": {},
   "outputs": [],
   "source": [
    "# Path for saving/loading files\n",
    "file_path = r\"/Users/briangor/Downloads/\""
   ]
  },
  {
   "cell_type": "code",
   "execution_count": 76,
   "id": "f6c776a4",
   "metadata": {},
   "outputs": [],
   "source": [
    "# Since the given dataset might not completely fit into computaton capacity that we have,\n",
    "# we will sample the data and work it\n",
    "\n",
    "# Function for Sampling random movies and users to reduce the size of rating matrix\n",
    "def get_sample_sparse_matrix(sparseMatrix, n_users, n_movies, matrix_name):\n",
    "\n",
    "    np.random.seed(15)   #this will give same random number everytime, without replacement\n",
    "    startTime = datetime.now()\n",
    "\n",
    "    users, movies, ratings = sparse.find(sparseMatrix)\n",
    "    uniq_users = np.unique(users)\n",
    "    uniq_movies = np.unique(movies)\n",
    "\n",
    "    userS = np.random.choice(uniq_users, n_users, replace = False)\n",
    "    movieS = np.random.choice(uniq_movies, n_movies, replace = False)\n",
    "    mask = np.logical_and(np.isin(users, userS), np.isin(movies, movieS))\n",
    "    sparse_sample = sparse.csr_matrix((ratings[mask], (users[mask], movies[mask])), shape = (max(userS)+1, max(movieS)+1))\n",
    " \n",
    "    print(\"Sparse Matrix creation done. Saving it for later use.\")\n",
    "    sparse.save_npz(file_path + \"/\" + matrix_name, sparse_sample)\n",
    "    print(\"Shape of Sparse Sampled Matrix = \" + str(sparse_sample.shape))    \n",
    "    print(\"Time taken : \", datetime.now() - startTime)\n",
    "\n",
    "    return sparse_sample"
   ]
  },
  {
   "cell_type": "code",
   "execution_count": 77,
   "id": "81d969dd",
   "metadata": {},
   "outputs": [
    {
     "name": "stdout",
     "output_type": "stream",
     "text": [
      "Sample sparse matrix is not present in the disk. We are creating it...\n",
      "Sparse Matrix creation done. Saving it for later use.\n",
      "Shape of Sparse Sampled Matrix = (138488, 71701)\n",
      "Time taken :  0:00:15.188456\n"
     ]
    }
   ],
   "source": [
    "# Creating Sample Sparse Matrix for Train Data\n",
    "\n",
    "if not os.path.isfile(file_path + \"/TrainUISparseData_Sample.npz\"):\n",
    "    print(\"Sample sparse matrix is not present in the disk. We are creating it...\")\n",
    "    train_sample_sparse = get_sample_sparse_matrix(TrainUISparseData, 5000, 1000, \"TrainUISparseData_Sample.npz\")\n",
    "else:\n",
    "    print(\"File is already present in the disk. Loading the file...\")\n",
    "    train_sample_sparse = sparse.load_npz(file_path + \"/TrainUISparseData_Sample.npz\")\n",
    "    print(\"Shape of Train Sample Sparse Matrix = \" + str(train_sample_sparse.shape))"
   ]
  },
  {
   "cell_type": "code",
   "execution_count": 78,
   "id": "b01986ef",
   "metadata": {},
   "outputs": [
    {
     "name": "stdout",
     "output_type": "stream",
     "text": [
      "Sample sparse matrix is not present in the disk. We are creating it...\n",
      "Sparse Matrix creation done. Saving it for later use.\n",
      "Shape of Sparse Sampled Matrix = (138456, 131022)\n",
      "Time taken :  0:00:03.627786\n"
     ]
    }
   ],
   "source": [
    "# Creating Sample Sparse Matrix for Test Data\n",
    "\n",
    "if not os.path.isfile(file_path + \"/TestUISparseData_Sample.npz\"):\n",
    "    print(\"Sample sparse matrix is not present in the disk. We are creating it...\")\n",
    "    test_sample_sparse = get_sample_sparse_matrix(TestUISparseData, 2000, 200, \"TestUISparseData_Sample.npz\")\n",
    "else:\n",
    "    print(\"File is already present in the disk. Loading the file...\")\n",
    "    test_sample_sparse = sparse.load_npz(file_path + \"/TestUISparseData_Sample.npz\")\n",
    "    print(\"Shape of Test Sample Sparse Matrix = \" + str(test_sample_sparse.shape))\n",
    "     "
   ]
  },
  {
   "cell_type": "code",
   "execution_count": 79,
   "id": "d263682b",
   "metadata": {},
   "outputs": [
    {
     "name": "stdout",
     "output_type": "stream",
     "text": [
      "Shape of Train Sparse Matrix :  (138488, 71701)\n",
      "Shape of Test Sparse Matrix :  (138456, 131022)\n"
     ]
    }
   ],
   "source": [
    "# Checking the shape of Training and test data\n",
    "\n",
    "print(\"Shape of Train Sparse Matrix : \", train_sample_sparse.shape)\n",
    "print(\"Shape of Test Sparse Matrix : \", test_sample_sparse.shape)"
   ]
  },
  {
   "cell_type": "code",
   "execution_count": 80,
   "id": "c93f137d",
   "metadata": {},
   "outputs": [
    {
     "name": "stdout",
     "output_type": "stream",
     "text": [
      "Global average of all movies ratings in Train Set is :  3.5\n",
      "No. of ratings in the train matrix is :  54216\n"
     ]
    }
   ],
   "source": [
    "# Calculating few GlobalAverageRating, AvgMovieRating, AvgUserRating and TotalNoOfRatings\n",
    "\n",
    "globalAvgRating = np.round((train_sample_sparse.sum()/train_sample_sparse.count_nonzero()), 2)\n",
    "globalAvgMovies = getAverageRatings(train_sample_sparse, False)\n",
    "globalAvgUsers = getAverageRatings(train_sample_sparse, True)\n",
    "print(\"Global average of all movies ratings in Train Set is : \", globalAvgRating)\n",
    "print(\"No. of ratings in the train matrix is : \", train_sample_sparse.count_nonzero())"
   ]
  },
  {
   "cell_type": "code",
   "execution_count": 81,
   "id": "b7319c94",
   "metadata": {},
   "outputs": [],
   "source": [
    "# Function to extract features and create row using the sparse matrix\n",
    "\n",
    "def CreateFeaturesForTrainData(SampledSparseData, TrainSampledSparseData):\n",
    "\n",
    "    startTime = datetime.now()\n",
    "\n",
    "    # Extracting userId list, movieId list and Ratings\n",
    "    sample_users, sample_movies, sample_ratings = sparse.find(SampledSparseData)\n",
    "    \n",
    "    print(\"No. of rows in the returned dataset : \", len(sample_ratings))\n",
    "    \n",
    "    count = 0\n",
    "    data = []\n",
    "    \n",
    "    for user, movie, rating in zip(sample_users, sample_movies, sample_ratings):\n",
    "\n",
    "        row = list()\n",
    "\n",
    "#----------------------------------Appending \"user Id\" average, \"movie Id\" average & global average rating-----------#\n",
    "        row.append(user)  \n",
    "        row.append(movie) \n",
    "        row.append(globalAvgRating) \n",
    "\n",
    "#----------------------------------Appending \"user\" average, \"movie\" average & rating of \"user\"\"movie\"-----------#\n",
    "        try:\n",
    "            row.append(globalAvgUsers[user])\n",
    "        except (KeyError):\n",
    "            global_average_rating = globalAvgRating\n",
    "            row.append(global_average_rating)\n",
    "        except:\n",
    "            raise\n",
    "        try:            \n",
    "            row.append(globalAvgMovies[movie])\n",
    "        except (KeyError):\n",
    "            global_average_rating = globalAvgRating\n",
    "            row.append(global_average_rating)\n",
    "        except:\n",
    "            raise\n",
    "\n",
    "#----------------------------------Ratings given to \"movie\" by top 5 similar users with \"user\"--------------------#\n",
    "        try:\n",
    "            similar_users = cosine_similarity(TrainSampledSparseData[user], TrainSampledSparseData).ravel()\n",
    "            similar_users_indices = np.argsort(-similar_users)[1:]\n",
    "            similar_users_ratings = TrainSampledSparseData[similar_users_indices, movie].toarray().ravel()\n",
    "            top_similar_user_ratings = list(similar_users_ratings[similar_users_ratings != 0][:5])\n",
    "            top_similar_user_ratings.extend([globalAvgMovies[movie]]*(5-len(top_similar_user_ratings)))\n",
    "            #above line means that if top 5 ratings are not available then rest of the ratings will be filled by \"movie\" average\n",
    "            #rating. Let say only 3 out of 5 ratings are available then rest 2 will be \"movie\" average rating.\n",
    "            row.extend(top_similar_user_ratings)\n",
    "        #########Cold Start Problem, for a new user or a new movie######### \n",
    "        except (IndexError, KeyError):\n",
    "            global_average_rating = [globalAvgRating]*5\n",
    "            row.extend(global_average_rating)\n",
    "        except:\n",
    "            raise\n",
    "\n",
    "#----------------------------------Ratings given by \"user\" to top 5 similar movies with \"movie\"------------------#\n",
    "        try:\n",
    "            similar_movies = cosine_similarity(TrainSampledSparseData[:,movie].T, TrainSampledSparseData.T).ravel()\n",
    "            similar_movies_indices = np.argsort(-similar_movies)[1:]\n",
    "            similar_movies_ratings = TrainSampledSparseData[user, similar_movies_indices].toarray().ravel()\n",
    "            top_similar_movie_ratings = list(similar_movies_ratings[similar_movies_ratings != 0][:5])\n",
    "            top_similar_movie_ratings.extend([globalAvgUsers[user]]*(5-len(top_similar_movie_ratings)))\n",
    "            #above line means that if top 5 ratings are not available then rest of the ratings will be filled by \"user\" average\n",
    "            #rating. Let say only 3 out of 5 ratings are available then rest 2 will be \"user\" average rating.\n",
    "            row.extend(top_similar_movie_ratings)\n",
    "        ########Cold Start Problem, for a new user or a new movie#########\n",
    "        except (IndexError, KeyError):\n",
    "            global_average_rating = [globalAvgRating] * 5\n",
    "            row.extend(global_average_rating)\n",
    "        except:\n",
    "            raise\n",
    "              \n",
    "#----------------------------------Appending rating of \"user\"\"movie\"-----------#\n",
    "        row.append(rating)\n",
    "\n",
    "        count += 1\n",
    "        \n",
    "        data.append(row)\n",
    "        \n",
    "        if count % 5000 == 0:\n",
    "            print(\"Done for {}. Time elapsed: {}\".format(count, (datetime.now() - startTime)))\n",
    "\n",
    "    print(\"Total Time for {} rows = {}\".format(len(data), (datetime.now() - startTime)))\n",
    "    print(\"Completed..\")\n",
    "    return data\n",
    "     "
   ]
  },
  {
   "cell_type": "code",
   "execution_count": 82,
   "id": "6d0032c3",
   "metadata": {},
   "outputs": [
    {
     "name": "stdout",
     "output_type": "stream",
     "text": [
      "No. of rows in the returned dataset :  54216\n",
      "Done for 5000. Time elapsed: 0:02:39.865228\n",
      "Done for 10000. Time elapsed: 0:04:54.441656\n",
      "Done for 15000. Time elapsed: 0:07:06.116509\n",
      "Done for 20000. Time elapsed: 0:09:20.779093\n",
      "Done for 25000. Time elapsed: 0:11:31.931670\n",
      "Done for 30000. Time elapsed: 0:13:44.237743\n",
      "Done for 35000. Time elapsed: 0:15:54.019021\n",
      "Done for 40000. Time elapsed: 0:18:04.475789\n",
      "Done for 45000. Time elapsed: 0:20:29.094760\n",
      "Done for 50000. Time elapsed: 0:22:57.561682\n",
      "Total Time for 54216 rows = 0:24:51.036788\n",
      "Completed..\n"
     ]
    }
   ],
   "source": [
    "# Using sampled train data, creating Features for each row and saving it into the list\n",
    "\n",
    "data_rows = CreateFeaturesForTrainData(train_sample_sparse, train_sample_sparse)"
   ]
  },
  {
   "cell_type": "code",
   "execution_count": 83,
   "id": "b8c5bc6f",
   "metadata": {},
   "outputs": [
    {
     "name": "stdout",
     "output_type": "stream",
     "text": [
      "No. of rows in the returned dataset :  2084\n",
      "Total Time for 2084 rows = 0:00:42.422573\n",
      "Completed..\n"
     ]
    }
   ],
   "source": [
    "# Using sampled train data, creating Features for each row and saving it into the list\n",
    "\n",
    "test_data_rows = CreateFeaturesForTrainData(test_sample_sparse, train_sample_sparse)"
   ]
  },
  {
   "cell_type": "code",
   "execution_count": 84,
   "id": "168be8a8",
   "metadata": {},
   "outputs": [],
   "source": [
    "# Creating the pandas dataframe from the data rows extracted from the sparse matrix for train and test set\n",
    "\n",
    "names = [\"User_ID\", \"Movie_ID\", \"Global_Average\", \"User_Average\", \"Movie_Average\", \"SUR1\", \"SUR2\", \"SUR3\", \"SUR4\", \"SUR5\", \"SMR1\", \"SMR2\", \"SMR3\", \"SMR4\", \"SMR5\", \"Rating\"]\n",
    "train_regression_data = pd.DataFrame(data_rows, columns=names)\n",
    "test_regression_data = pd.DataFrame(test_data_rows, columns=names)"
   ]
  },
  {
   "cell_type": "code",
   "execution_count": 85,
   "id": "ac7f7860",
   "metadata": {},
   "outputs": [],
   "source": [
    "# Saving the df to drive for future use\n",
    "\n",
    "train_regression_data.to_csv(file_path + \"/Training_Data_For_Regression.csv\")\n",
    "test_regression_data.to_csv(file_path + \"/Testing_Data_For_Regression.csv\")"
   ]
  },
  {
   "cell_type": "code",
   "execution_count": 88,
   "id": "070975ca",
   "metadata": {},
   "outputs": [
    {
     "name": "stdout",
     "output_type": "stream",
     "text": [
      "File is already present in the disk. Loading the file...\n",
      "Done..\n"
     ]
    }
   ],
   "source": [
    "# Loading the train and test csv files\n",
    "\n",
    "# Path for saving/loading files\n",
    "file_path = r\"/Users/briangor/Downloads/\"\n",
    "\n",
    "print(\"File is already present in the disk. Loading the file...\")\n",
    "\n",
    "train_regression_data = pd.read_csv(file_path + \"/Training_Data_For_Regression.csv\")\n",
    "train_regression_data = train_regression_data.drop([\"Unnamed: 0\"], axis=1)\n",
    "\n",
    "test_regression_data = pd.read_csv(file_path + \"/Testing_Data_For_Regression.csv\")\n",
    "test_regression_data = test_regression_data.drop([\"Unnamed: 0\"], axis=1)\n",
    "\n",
    "print(\"Done..\")"
   ]
  },
  {
   "cell_type": "code",
   "execution_count": 89,
   "id": "dca027a1",
   "metadata": {},
   "outputs": [
    {
     "name": "stdout",
     "output_type": "stream",
     "text": [
      "The shape of the dataframe is :  (54216, 16)\n",
      "Number of missing Values :  0\n"
     ]
    },
    {
     "data": {
      "text/html": [
       "<div>\n",
       "<style scoped>\n",
       "    .dataframe tbody tr th:only-of-type {\n",
       "        vertical-align: middle;\n",
       "    }\n",
       "\n",
       "    .dataframe tbody tr th {\n",
       "        vertical-align: top;\n",
       "    }\n",
       "\n",
       "    .dataframe thead th {\n",
       "        text-align: right;\n",
       "    }\n",
       "</style>\n",
       "<table border=\"1\" class=\"dataframe\">\n",
       "  <thead>\n",
       "    <tr style=\"text-align: right;\">\n",
       "      <th></th>\n",
       "      <th>User_ID</th>\n",
       "      <th>Movie_ID</th>\n",
       "      <th>Global_Average</th>\n",
       "      <th>User_Average</th>\n",
       "      <th>Movie_Average</th>\n",
       "      <th>SUR1</th>\n",
       "      <th>SUR2</th>\n",
       "      <th>SUR3</th>\n",
       "      <th>SUR4</th>\n",
       "      <th>SUR5</th>\n",
       "      <th>SMR1</th>\n",
       "      <th>SMR2</th>\n",
       "      <th>SMR3</th>\n",
       "      <th>SMR4</th>\n",
       "      <th>SMR5</th>\n",
       "      <th>Rating</th>\n",
       "    </tr>\n",
       "  </thead>\n",
       "  <tbody>\n",
       "    <tr>\n",
       "      <th>0</th>\n",
       "      <td>332</td>\n",
       "      <td>25</td>\n",
       "      <td>3.5</td>\n",
       "      <td>3.142857</td>\n",
       "      <td>3.70987</td>\n",
       "      <td>4.0</td>\n",
       "      <td>5.0</td>\n",
       "      <td>3.0</td>\n",
       "      <td>3.0</td>\n",
       "      <td>5.0</td>\n",
       "      <td>5.0</td>\n",
       "      <td>3.0</td>\n",
       "      <td>2.0</td>\n",
       "      <td>3.0</td>\n",
       "      <td>2.0</td>\n",
       "      <td>5.0</td>\n",
       "    </tr>\n",
       "    <tr>\n",
       "      <th>1</th>\n",
       "      <td>463</td>\n",
       "      <td>25</td>\n",
       "      <td>3.5</td>\n",
       "      <td>3.875000</td>\n",
       "      <td>3.70987</td>\n",
       "      <td>5.0</td>\n",
       "      <td>5.0</td>\n",
       "      <td>4.0</td>\n",
       "      <td>4.0</td>\n",
       "      <td>5.0</td>\n",
       "      <td>4.0</td>\n",
       "      <td>4.0</td>\n",
       "      <td>4.0</td>\n",
       "      <td>3.0</td>\n",
       "      <td>4.0</td>\n",
       "      <td>5.0</td>\n",
       "    </tr>\n",
       "    <tr>\n",
       "      <th>2</th>\n",
       "      <td>484</td>\n",
       "      <td>25</td>\n",
       "      <td>3.5</td>\n",
       "      <td>5.000000</td>\n",
       "      <td>3.70987</td>\n",
       "      <td>5.0</td>\n",
       "      <td>5.0</td>\n",
       "      <td>3.0</td>\n",
       "      <td>3.0</td>\n",
       "      <td>5.0</td>\n",
       "      <td>5.0</td>\n",
       "      <td>5.0</td>\n",
       "      <td>5.0</td>\n",
       "      <td>5.0</td>\n",
       "      <td>5.0</td>\n",
       "      <td>5.0</td>\n",
       "    </tr>\n",
       "    <tr>\n",
       "      <th>3</th>\n",
       "      <td>592</td>\n",
       "      <td>25</td>\n",
       "      <td>3.5</td>\n",
       "      <td>5.000000</td>\n",
       "      <td>3.70987</td>\n",
       "      <td>5.0</td>\n",
       "      <td>4.0</td>\n",
       "      <td>5.0</td>\n",
       "      <td>3.0</td>\n",
       "      <td>4.0</td>\n",
       "      <td>5.0</td>\n",
       "      <td>5.0</td>\n",
       "      <td>5.0</td>\n",
       "      <td>5.0</td>\n",
       "      <td>5.0</td>\n",
       "      <td>5.0</td>\n",
       "    </tr>\n",
       "    <tr>\n",
       "      <th>4</th>\n",
       "      <td>640</td>\n",
       "      <td>25</td>\n",
       "      <td>3.5</td>\n",
       "      <td>3.166667</td>\n",
       "      <td>3.70987</td>\n",
       "      <td>3.0</td>\n",
       "      <td>3.0</td>\n",
       "      <td>5.0</td>\n",
       "      <td>4.0</td>\n",
       "      <td>5.0</td>\n",
       "      <td>3.0</td>\n",
       "      <td>5.0</td>\n",
       "      <td>3.0</td>\n",
       "      <td>3.0</td>\n",
       "      <td>3.0</td>\n",
       "      <td>2.0</td>\n",
       "    </tr>\n",
       "  </tbody>\n",
       "</table>\n",
       "</div>"
      ],
      "text/plain": [
       "   User_ID  Movie_ID  Global_Average  User_Average  Movie_Average  SUR1  SUR2  \\\n",
       "0      332        25             3.5      3.142857        3.70987   4.0   5.0   \n",
       "1      463        25             3.5      3.875000        3.70987   5.0   5.0   \n",
       "2      484        25             3.5      5.000000        3.70987   5.0   5.0   \n",
       "3      592        25             3.5      5.000000        3.70987   5.0   4.0   \n",
       "4      640        25             3.5      3.166667        3.70987   3.0   3.0   \n",
       "\n",
       "   SUR3  SUR4  SUR5  SMR1  SMR2  SMR3  SMR4  SMR5  Rating  \n",
       "0   3.0   3.0   5.0   5.0   3.0   2.0   3.0   2.0     5.0  \n",
       "1   4.0   4.0   5.0   4.0   4.0   4.0   3.0   4.0     5.0  \n",
       "2   3.0   3.0   5.0   5.0   5.0   5.0   5.0   5.0     5.0  \n",
       "3   5.0   3.0   4.0   5.0   5.0   5.0   5.0   5.0     5.0  \n",
       "4   5.0   4.0   5.0   3.0   5.0   3.0   3.0   3.0     2.0  "
      ]
     },
     "execution_count": 89,
     "metadata": {},
     "output_type": "execute_result"
    }
   ],
   "source": [
    "# Checking the shape and first few records for train data\n",
    "\n",
    "print(\"The shape of the dataframe is : \", train_regression_data.shape)\n",
    "print(\"Number of missing Values : \", train_regression_data.isnull().sum().sum())\n",
    "train_regression_data.head()"
   ]
  },
  {
   "cell_type": "code",
   "execution_count": 90,
   "id": "5769db39",
   "metadata": {},
   "outputs": [
    {
     "name": "stdout",
     "output_type": "stream",
     "text": [
      "The shape of the dataframe is :  (2084, 16)\n",
      "Number of missing Values :  0\n"
     ]
    },
    {
     "data": {
      "text/html": [
       "<div>\n",
       "<style scoped>\n",
       "    .dataframe tbody tr th:only-of-type {\n",
       "        vertical-align: middle;\n",
       "    }\n",
       "\n",
       "    .dataframe tbody tr th {\n",
       "        vertical-align: top;\n",
       "    }\n",
       "\n",
       "    .dataframe thead th {\n",
       "        text-align: right;\n",
       "    }\n",
       "</style>\n",
       "<table border=\"1\" class=\"dataframe\">\n",
       "  <thead>\n",
       "    <tr style=\"text-align: right;\">\n",
       "      <th></th>\n",
       "      <th>User_ID</th>\n",
       "      <th>Movie_ID</th>\n",
       "      <th>Global_Average</th>\n",
       "      <th>User_Average</th>\n",
       "      <th>Movie_Average</th>\n",
       "      <th>SUR1</th>\n",
       "      <th>SUR2</th>\n",
       "      <th>SUR3</th>\n",
       "      <th>SUR4</th>\n",
       "      <th>SUR5</th>\n",
       "      <th>SMR1</th>\n",
       "      <th>SMR2</th>\n",
       "      <th>SMR3</th>\n",
       "      <th>SMR4</th>\n",
       "      <th>SMR5</th>\n",
       "      <th>Rating</th>\n",
       "    </tr>\n",
       "  </thead>\n",
       "  <tbody>\n",
       "    <tr>\n",
       "      <th>0</th>\n",
       "      <td>24024</td>\n",
       "      <td>78</td>\n",
       "      <td>3.5</td>\n",
       "      <td>3.5</td>\n",
       "      <td>3.5</td>\n",
       "      <td>3.5</td>\n",
       "      <td>3.5</td>\n",
       "      <td>3.5</td>\n",
       "      <td>3.5</td>\n",
       "      <td>3.5</td>\n",
       "      <td>3.5</td>\n",
       "      <td>3.5</td>\n",
       "      <td>3.5</td>\n",
       "      <td>3.5</td>\n",
       "      <td>3.5</td>\n",
       "      <td>3.0</td>\n",
       "    </tr>\n",
       "    <tr>\n",
       "      <th>1</th>\n",
       "      <td>89299</td>\n",
       "      <td>78</td>\n",
       "      <td>3.5</td>\n",
       "      <td>3.5</td>\n",
       "      <td>3.5</td>\n",
       "      <td>3.5</td>\n",
       "      <td>3.5</td>\n",
       "      <td>3.5</td>\n",
       "      <td>3.5</td>\n",
       "      <td>3.5</td>\n",
       "      <td>3.5</td>\n",
       "      <td>3.5</td>\n",
       "      <td>3.5</td>\n",
       "      <td>3.5</td>\n",
       "      <td>3.5</td>\n",
       "      <td>3.0</td>\n",
       "    </tr>\n",
       "    <tr>\n",
       "      <th>2</th>\n",
       "      <td>89495</td>\n",
       "      <td>78</td>\n",
       "      <td>3.5</td>\n",
       "      <td>3.5</td>\n",
       "      <td>3.5</td>\n",
       "      <td>3.5</td>\n",
       "      <td>3.5</td>\n",
       "      <td>3.5</td>\n",
       "      <td>3.5</td>\n",
       "      <td>3.5</td>\n",
       "      <td>3.5</td>\n",
       "      <td>3.5</td>\n",
       "      <td>3.5</td>\n",
       "      <td>3.5</td>\n",
       "      <td>3.5</td>\n",
       "      <td>3.0</td>\n",
       "    </tr>\n",
       "    <tr>\n",
       "      <th>3</th>\n",
       "      <td>105227</td>\n",
       "      <td>78</td>\n",
       "      <td>3.5</td>\n",
       "      <td>3.5</td>\n",
       "      <td>3.5</td>\n",
       "      <td>3.5</td>\n",
       "      <td>3.5</td>\n",
       "      <td>3.5</td>\n",
       "      <td>3.5</td>\n",
       "      <td>3.5</td>\n",
       "      <td>3.5</td>\n",
       "      <td>3.5</td>\n",
       "      <td>3.5</td>\n",
       "      <td>3.5</td>\n",
       "      <td>3.5</td>\n",
       "      <td>4.0</td>\n",
       "    </tr>\n",
       "    <tr>\n",
       "      <th>4</th>\n",
       "      <td>500</td>\n",
       "      <td>610</td>\n",
       "      <td>3.5</td>\n",
       "      <td>3.5</td>\n",
       "      <td>3.5</td>\n",
       "      <td>3.5</td>\n",
       "      <td>3.5</td>\n",
       "      <td>3.5</td>\n",
       "      <td>3.5</td>\n",
       "      <td>3.5</td>\n",
       "      <td>3.5</td>\n",
       "      <td>3.5</td>\n",
       "      <td>3.5</td>\n",
       "      <td>3.5</td>\n",
       "      <td>3.5</td>\n",
       "      <td>3.0</td>\n",
       "    </tr>\n",
       "  </tbody>\n",
       "</table>\n",
       "</div>"
      ],
      "text/plain": [
       "   User_ID  Movie_ID  Global_Average  User_Average  Movie_Average  SUR1  SUR2  \\\n",
       "0    24024        78             3.5           3.5            3.5   3.5   3.5   \n",
       "1    89299        78             3.5           3.5            3.5   3.5   3.5   \n",
       "2    89495        78             3.5           3.5            3.5   3.5   3.5   \n",
       "3   105227        78             3.5           3.5            3.5   3.5   3.5   \n",
       "4      500       610             3.5           3.5            3.5   3.5   3.5   \n",
       "\n",
       "   SUR3  SUR4  SUR5  SMR1  SMR2  SMR3  SMR4  SMR5  Rating  \n",
       "0   3.5   3.5   3.5   3.5   3.5   3.5   3.5   3.5     3.0  \n",
       "1   3.5   3.5   3.5   3.5   3.5   3.5   3.5   3.5     3.0  \n",
       "2   3.5   3.5   3.5   3.5   3.5   3.5   3.5   3.5     3.0  \n",
       "3   3.5   3.5   3.5   3.5   3.5   3.5   3.5   3.5     4.0  \n",
       "4   3.5   3.5   3.5   3.5   3.5   3.5   3.5   3.5     3.0  "
      ]
     },
     "execution_count": 90,
     "metadata": {},
     "output_type": "execute_result"
    }
   ],
   "source": [
    "# Checking the shape and first few records for test data\n",
    "\n",
    "print(\"The shape of the dataframe is : \", test_regression_data.shape)\n",
    "print(\"Number of missing Values : \", test_regression_data.isnull().sum().sum())\n",
    "test_regression_data.head()"
   ]
  },
  {
   "cell_type": "markdown",
   "id": "0d102a91",
   "metadata": {},
   "source": [
    "Observations:\n",
    "\n",
    "The description of the features are stated below:\n",
    "\n",
    "User_ID: ID of a this User\n",
    "Movie_ID: ID of a this Movie\n",
    "Global_Average: Global Average Rating\n",
    "User_Average: Average Rating of this User\n",
    "Movie_Average: Average Rating of this Movie\n",
    "Ratings given to this Movie by top 5 similar users with this User: (SUR1, SUR2, SUR3, SUR4, SUR5)\n",
    "Ratings given by this User to top 5 similar movies with this Movie: (SMR1, SMR2, SMR3, SMR4, SMR5)\n",
    "Rating: Rating given by this User to this Movie"
   ]
  },
  {
   "cell_type": "markdown",
   "id": "ad8191bc",
   "metadata": {},
   "source": [
    "Transforming Data for Surprise Models\n",
    "\n",
    "Transforming Train Data:\n",
    "\n",
    "We can't give raw data (movie, user, rating) to train the model in Surprise library. They have a separate format for TRAIN and TEST data, which will be useful for training the models like SVD, KNN, BaseLineOnly, etc.., in Surprise.\n",
    "\n",
    "We can form the trainset from a file, or from a Pandas DataFrame. http://surprise.readthedocs.io/en/stable/getting_started.html#load-dom-dataframe-py\n",
    "\n",
    "Transforming Test Data:\n",
    "\n",
    "For test data we just have to define a tuple (user, item, rating). Check out this link: https://github.com/NicolasHug/Surprise/commit/86cf44529ca0bbb97759b81d1716ff547b950812\n",
    "\n",
    "Above link is a github of surprise library. Check methods \"def all_ratings(self)\" and \"def build_testset(self)\" from line 177 to 201(If they modify the file then line number may differ, but you can always check aforementioned two methods). \"def build_testset(self)\" method returns a list of tuples of (user, item, rating)."
   ]
  },
  {
   "cell_type": "code",
   "execution_count": 91,
   "id": "bc8711f2",
   "metadata": {},
   "outputs": [
    {
     "data": {
      "text/html": [
       "<div>\n",
       "<style scoped>\n",
       "    .dataframe tbody tr th:only-of-type {\n",
       "        vertical-align: middle;\n",
       "    }\n",
       "\n",
       "    .dataframe tbody tr th {\n",
       "        vertical-align: top;\n",
       "    }\n",
       "\n",
       "    .dataframe thead th {\n",
       "        text-align: right;\n",
       "    }\n",
       "</style>\n",
       "<table border=\"1\" class=\"dataframe\">\n",
       "  <thead>\n",
       "    <tr style=\"text-align: right;\">\n",
       "      <th></th>\n",
       "      <th>User_ID</th>\n",
       "      <th>Movie_ID</th>\n",
       "      <th>Rating</th>\n",
       "    </tr>\n",
       "  </thead>\n",
       "  <tbody>\n",
       "    <tr>\n",
       "      <th>0</th>\n",
       "      <td>332</td>\n",
       "      <td>25</td>\n",
       "      <td>5.0</td>\n",
       "    </tr>\n",
       "    <tr>\n",
       "      <th>1</th>\n",
       "      <td>463</td>\n",
       "      <td>25</td>\n",
       "      <td>5.0</td>\n",
       "    </tr>\n",
       "    <tr>\n",
       "      <th>2</th>\n",
       "      <td>484</td>\n",
       "      <td>25</td>\n",
       "      <td>5.0</td>\n",
       "    </tr>\n",
       "    <tr>\n",
       "      <th>3</th>\n",
       "      <td>592</td>\n",
       "      <td>25</td>\n",
       "      <td>5.0</td>\n",
       "    </tr>\n",
       "    <tr>\n",
       "      <th>4</th>\n",
       "      <td>640</td>\n",
       "      <td>25</td>\n",
       "      <td>2.0</td>\n",
       "    </tr>\n",
       "  </tbody>\n",
       "</table>\n",
       "</div>"
      ],
      "text/plain": [
       "   User_ID  Movie_ID  Rating\n",
       "0      332        25     5.0\n",
       "1      463        25     5.0\n",
       "2      484        25     5.0\n",
       "3      592        25     5.0\n",
       "4      640        25     2.0"
      ]
     },
     "execution_count": 91,
     "metadata": {},
     "output_type": "execute_result"
    }
   ],
   "source": [
    "train_regression_data[['User_ID', 'Movie_ID', 'Rating']].head(5)"
   ]
  },
  {
   "cell_type": "code",
   "execution_count": null,
   "id": "9535ca20",
   "metadata": {},
   "outputs": [],
   "source": []
  }
 ],
 "metadata": {
  "kernelspec": {
   "display_name": "Python 3 (ipykernel)",
   "language": "python",
   "name": "python3"
  },
  "language_info": {
   "codemirror_mode": {
    "name": "ipython",
    "version": 3
   },
   "file_extension": ".py",
   "mimetype": "text/x-python",
   "name": "python",
   "nbconvert_exporter": "python",
   "pygments_lexer": "ipython3",
   "version": "3.9.13"
  }
 },
 "nbformat": 4,
 "nbformat_minor": 5
}
